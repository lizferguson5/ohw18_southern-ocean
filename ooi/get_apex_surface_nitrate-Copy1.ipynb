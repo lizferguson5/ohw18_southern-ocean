{
 "cells": [
  {
   "cell_type": "code",
   "execution_count": 1,
   "metadata": {},
   "outputs": [],
   "source": [
    "% matplotlib inline\n",
    "import requests, warnings, json, time, os, re\n",
    "import xarray as xr\n",
    "import numpy as np\n",
    "import pandas as pd\n",
    "import matplotlib.pyplot as plt\n",
    "warnings.filterwarnings('ignore')"
   ]
  },
  {
   "cell_type": "markdown",
   "metadata": {},
   "source": [
    "### IOOS Southern Ocean Data requests\n",
    "\n",
    "Ask Sheri about the Water pCO2 <br>\n",
    "DO - looks bad (Be weary)!"
   ]
  },
  {
   "cell_type": "markdown",
   "metadata": {},
   "source": [
    "__Creating a credentials file__ <br>\n",
    "This is done so you aren't uploading your private token and username onto a github repo for the whole world to see\n",
    "\n",
    "1. Create a file called credentials.json in this folder.\n",
    "2. Add your token and username info so it looks something like this:\n",
    "\n",
    "```\n",
    "{\n",
    "    \"username\": \"OOIAPI-FAKEAPINAME\",\n",
    "    \"token\": \"BBN3YLYO783\"\n",
    "}\n",
    "\n",
    "```"
   ]
  },
  {
   "cell_type": "code",
   "execution_count": 2,
   "metadata": {},
   "outputs": [],
   "source": [
    "# Load your credentials\n",
    "with open(\"credentials.json\", \"r\") as read_file:\n",
    "    data = json.load(read_file)\n",
    "token = data['token']\n",
    "username = data['username']"
   ]
  },
  {
   "cell_type": "markdown",
   "metadata": {},
   "source": [
    "### Pull Surface Nitrate Data from the [Apex Surface Mooring](http://ooi.visualocean.net/instruments/view/GS01SUMO-RID16-03-CTDBPF000)\n",
    "\n",
    "Example M2M url:\n",
    "https://ooinet.oceanobservatories.org/api/m2m/12576/sensor/inv/GS01SUMO/RID16/03-CTDBPF000/metadata"
   ]
  },
  {
   "cell_type": "code",
   "execution_count": 9,
   "metadata": {},
   "outputs": [],
   "source": [
    "# Build API Query\n",
    "DATA_API_BASE_URL = 'https://ooinet.oceanobservatories.org/api/m2m/12576/sensor/inv/'\n",
    "data_request_url = DATA_API_BASE_URL+\\\n",
    "                    'GS01SUMO/'+\\\n",
    "                    'RID16/'+\\\n",
    "                    '07-NUTNRB000//'+\\\n",
    "                    'telemetered/'+\\\n",
    "                    'nutnr_b_dcl_full_instrument'+'?'\n",
    "\n",
    "r = requests.get(data_request_url, params=None, auth=(username, token)) # Request data\n",
    "data = r.json() # verify request"
   ]
  },
  {
   "cell_type": "code",
   "execution_count": 10,
   "metadata": {},
   "outputs": [
    {
     "name": "stdout",
     "output_type": "stream",
     "text": [
      "{'outputURL': 'https://opendap.oceanobservatories.org/thredds/catalog/ooi/pdaniel@mbari.org/20180823T215502-GS01SUMO-RID16-07-NUTNRB000-telemetered-nutnr_b_dcl_full_instrument/catalog.html', 'numberOfSubJobs': 38, 'requestUUID': '58a681af-4cf7-4a4b-a2f8-02ae4a04d22e', 'allURLs': ['https://opendap.oceanobservatories.org/thredds/catalog/ooi/pdaniel@mbari.org/20180823T215502-GS01SUMO-RID16-07-NUTNRB000-telemetered-nutnr_b_dcl_full_instrument/catalog.html', 'https://opendap.oceanobservatories.org/async_results/pdaniel@mbari.org/20180823T215502-GS01SUMO-RID16-07-NUTNRB000-telemetered-nutnr_b_dcl_full_instrument'], 'sizeCalculation': 68874558, 'timeCalculation': 60}\n"
     ]
    }
   ],
   "source": [
    "# if data says something about a 404 message, double check the API url. Otherwwi\n",
    "print(data)"
   ]
  },
  {
   "cell_type": "markdown",
   "metadata": {},
   "source": [
    "__Waiting for the dataset to be built and sent to your THREDDS__"
   ]
  },
  {
   "cell_type": "code",
   "execution_count": 11,
   "metadata": {},
   "outputs": [
    {
     "name": "stdout",
     "output_type": "stream",
     "text": [
      "request completed\n",
      "CPU times: user 1.43 s, sys: 94.5 ms, total: 1.52 s\n",
      "Wall time: 1min 30s\n"
     ]
    }
   ],
   "source": [
    "%%time\n",
    "check_complete = data['allURLs'][1] + '/status.txt'\n",
    "for i in range(1800): \n",
    "    r = requests.get(check_complete)\n",
    "    if r.status_code == requests.codes.ok:\n",
    "        print('request completed')\n",
    "        break\n",
    "    else:\n",
    "        time.sleep(1)"
   ]
  },
  {
   "cell_type": "markdown",
   "metadata": {},
   "source": [
    "### Pull the data from Thredds ###"
   ]
  },
  {
   "cell_type": "markdown",
   "metadata": {},
   "source": [
    "This chunk of code scrapes the thredds server associated with your username and finds each of the netCDF files that are associated with each deployment (three files in this case) and puts there URLs into a list"
   ]
  },
  {
   "cell_type": "code",
   "execution_count": null,
   "metadata": {},
   "outputs": [],
   "source": [
    "url = data['allURLs'][0]\n",
    "tds_url = 'https://opendap.oceanobservatories.org/thredds/dodsC'\n",
    "datasets = requests.get(url).text\n",
    "urls = re.findall(r'href=[\\'\"]?([^\\'\" >]+)', datasets)\n",
    "x = re.findall(r'(ooi/.*?.nc)', datasets)\n",
    "for i in x:\n",
    "    if i.endswith('.nc') == False:\n",
    "        x.remove(i)\n",
    "for i in x:\n",
    "    try:\n",
    "        float(i[-4])\n",
    "    except:\n",
    "        x.remove(i)\n",
    "datasets = [os.path.join(tds_url, i) for i in x]\n",
    "datasets"
   ]
  },
  {
   "cell_type": "markdown",
   "metadata": {},
   "source": [
    "Xarray is amazing and can open multiple netCDF files if they have the same Coordinates, (which each instrument deployment should have!). \n",
    "\n",
    "These data a thrown into a xarray Dataset (this is sort of the fundamental unit of xarray and is basically a 3-D array (or more) that keeps some track of some of the metadata)|"
   ]
  },
  {
   "cell_type": "code",
   "execution_count": 4,
   "metadata": {},
   "outputs": [],
   "source": [
    "# This is a lazy hack to get the data once its already by queried and dumped in my thredds server\n",
    "datasets = ['https://opendap.oceanobservatories.org/thredds/dodsC/ooi/pdaniel@mbari.org/20180822T045324-GS01SUMO-RID16-03-CTDBPF000-telemetered-ctdbp_cdef_dcl_instrument/deployment0003_GS01SUMO-RID16-03-CTDBPF000-telemetered-ctdbp_cdef_dcl_instrument_20161125T011706.633000-20180821T234514.654000.nc',\n",
    " 'https://opendap.oceanobservatories.org/thredds/dodsC/ooi/pdaniel@mbari.org/20180822T045324-GS01SUMO-RID16-03-CTDBPF000-telemetered-ctdbp_cdef_dcl_instrument/deployment0002_GS01SUMO-RID16-03-CTDBPF000-telemetered-ctdbp_cdef_dcl_instrument_20151214T202006.149000-20161205T090522.930000.nc',\n",
    " 'https://opendap.oceanobservatories.org/thredds/dodsC/ooi/pdaniel@mbari.org/20180822T045324-GS01SUMO-RID16-03-CTDBPF000-telemetered-ctdbp_cdef_dcl_instrument/deployment0001_GS01SUMO-RID16-03-CTDBPF000-telemetered-ctdbp_cdef_dcl_instrument_20150218T211507.035000-20150611T000008.454000.nc']"
   ]
  },
  {
   "cell_type": "code",
   "execution_count": null,
   "metadata": {},
   "outputs": [],
   "source": [
    "def open_data(file):\n",
    "    ds = xr.open_dataset(file)\n",
    "    ds.swamp_dim\n",
    "    return "
   ]
  },
  {
   "cell_type": "code",
   "execution_count": null,
   "metadata": {},
   "outputs": [],
   "source": []
  },
  {
   "cell_type": "code",
   "execution_count": 8,
   "metadata": {},
   "outputs": [
    {
     "name": "stdout",
     "output_type": "stream",
     "text": [
      "0 https://opendap.oceanobservatories.org/thredds/dodsC/ooi/pdaniel@mbari.org/20180822T045324-GS01SUMO-RID16-03-CTDBPF000-telemetered-ctdbp_cdef_dcl_instrument/deployment0003_GS01SUMO-RID16-03-CTDBPF000-telemetered-ctdbp_cdef_dcl_instrument_20161125T011706.633000-20180821T234514.654000.nc\n",
      "1 https://opendap.oceanobservatories.org/thredds/dodsC/ooi/pdaniel@mbari.org/20180822T045324-GS01SUMO-RID16-03-CTDBPF000-telemetered-ctdbp_cdef_dcl_instrument/deployment0002_GS01SUMO-RID16-03-CTDBPF000-telemetered-ctdbp_cdef_dcl_instrument_20151214T202006.149000-20161205T090522.930000.nc\n",
      "2 https://opendap.oceanobservatories.org/thredds/dodsC/ooi/pdaniel@mbari.org/20180822T045324-GS01SUMO-RID16-03-CTDBPF000-telemetered-ctdbp_cdef_dcl_instrument/deployment0001_GS01SUMO-RID16-03-CTDBPF000-telemetered-ctdbp_cdef_dcl_instrument_20150218T211507.035000-20150611T000008.454000.nc\n"
     ]
    }
   ],
   "source": [
    "all_ds = [xr.open_dataset(file) for file in datasets]\n",
    "\n",
    "\n",
    "# for file in datasets:\n",
    "#     ds = xr.open_dataset(file)\n"
   ]
  },
  {
   "cell_type": "code",
   "execution_count": 8,
   "metadata": {},
   "outputs": [],
   "source": [
    "data_url = \"https://opendap.oceanobservatories.org/thredds/dodsC/ooi/pdaniel@mbari.org/20180822T045324-GS01SUMO-RID16-03-CTDBPF000-telemetered-ctdbp_cdef_dcl_instrument/deployment0003_GS01SUMO-RID16-03-CTDBPF000-telemetered-ctdbp_cdef_dcl_instrument_20161125T011706.633000-20180821T234514.654000.nc\"\n",
    "ds = xr.open_dataset(data_url)"
   ]
  },
  {
   "cell_type": "code",
   "execution_count": 10,
   "metadata": {},
   "outputs": [],
   "source": [
    "ds = xr.open_mfdataset(datasets, compat)\n",
    "ds = ds.swap_dims({'obs': 'time'})\n",
    "ds = ds.sortby('time') # data from different deployments can overlap so we want to sort all data by time stamp."
   ]
  },
  {
   "cell_type": "markdown",
   "metadata": {},
   "source": [
    "Lets print the data varaibles and the corresponding standard names"
   ]
  },
  {
   "cell_type": "code",
   "execution_count": 15,
   "metadata": {},
   "outputs": [
    {
     "name": "stdout",
     "output_type": "stream",
     "text": [
      "time\n",
      "conductivity\n",
      "pressure\n",
      "temp\n",
      "practical_salinity\n",
      "density\n",
      "lat\n",
      "lon\n"
     ]
    }
   ],
   "source": [
    "for var in ds.variables:\n",
    "    try:\n",
    "        ds[var].standard_name\n",
    "        print(var)\n",
    "    except: #hack to only print variables that have a standard name attribute\n",
    "        pass"
   ]
  },
  {
   "cell_type": "code",
   "execution_count": 3,
   "metadata": {},
   "outputs": [
    {
     "ename": "NameError",
     "evalue": "name 'ds' is not defined",
     "output_type": "error",
     "traceback": [
      "\u001b[0;31m---------------------------------------------------------------------------\u001b[0m",
      "\u001b[0;31mNameError\u001b[0m                                 Traceback (most recent call last)",
      "\u001b[0;32m<timed exec>\u001b[0m in \u001b[0;36m<module>\u001b[0;34m()\u001b[0m\n",
      "\u001b[0;32m<timed exec>\u001b[0m in \u001b[0;36m<listcomp>\u001b[0;34m(.0)\u001b[0m\n",
      "\u001b[0;31mNameError\u001b[0m: name 'ds' is not defined"
     ]
    }
   ],
   "source": [
    "%%time\n",
    "variables_of_interest = [\"conductivity\",\"pressure\",\"temp\",\"practical_salinity\",\"density\",\"time\"]\n",
    "data = [ds[var].values for var in variables_of_interest]\n",
    "data_array = np.array((data))\n",
    "data_array = data_array.T"
   ]
  },
  {
   "cell_type": "markdown",
   "metadata": {},
   "source": [
    "__ Convert dataset into a pandas dataframe __"
   ]
  },
  {
   "cell_type": "code",
   "execution_count": 61,
   "metadata": {
    "scrolled": true
   },
   "outputs": [],
   "source": [
    "df = pd.DataFrame(data=data_array,columns=variables_of_interest)\n",
    "df['dateTime'] = pd.to_datetime(df['time'])\n",
    "df.index = df['dateTime']\n",
    "df.drop(labels=['time'],axis=1)\n",
    "df = df.convert_objects(convert_numeric=True);"
   ]
  },
  {
   "cell_type": "markdown",
   "metadata": {},
   "source": [
    "#### Subsample to hourly data"
   ]
  },
  {
   "cell_type": "code",
   "execution_count": 63,
   "metadata": {},
   "outputs": [],
   "source": [
    "hourly = df.resample(rule='1H').mean()\n",
    "hourly['dateTime'] = hourly.index"
   ]
  },
  {
   "cell_type": "markdown",
   "metadata": {},
   "source": [
    "### Pickle data for ease of access"
   ]
  },
  {
   "cell_type": "code",
   "execution_count": 65,
   "metadata": {},
   "outputs": [],
   "source": [
    "hourly.to_pickle('./data_dump/surface_ctd')"
   ]
  }
 ],
 "metadata": {
  "anaconda-cloud": {},
  "kernelspec": {
   "display_name": "Python [default]",
   "language": "python",
   "name": "python3"
  },
  "language_info": {
   "codemirror_mode": {
    "name": "ipython",
    "version": 3
   },
   "file_extension": ".py",
   "mimetype": "text/x-python",
   "name": "python",
   "nbconvert_exporter": "python",
   "pygments_lexer": "ipython3",
   "version": "3.5.5"
  }
 },
 "nbformat": 4,
 "nbformat_minor": 2
}
