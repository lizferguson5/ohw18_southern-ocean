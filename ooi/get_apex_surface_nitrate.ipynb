{
 "cells": [
  {
   "cell_type": "code",
   "execution_count": 1,
   "metadata": {},
   "outputs": [],
   "source": [
    "% matplotlib inline\n",
    "import requests, warnings, json, time, os, re\n",
    "import xarray as xr\n",
    "import numpy as np\n",
    "import pandas as pd\n",
    "import matplotlib.pyplot as plt\n",
    "\n",
    "warnings.filterwarnings('ignore')"
   ]
  },
  {
   "cell_type": "markdown",
   "metadata": {},
   "source": [
    "### IOOS Southern Ocean Data requests\n",
    "\n",
    "Ask Sheri about the Water pCO2 <br>\n",
    "DO - looks bad (Be weary)!"
   ]
  },
  {
   "cell_type": "markdown",
   "metadata": {},
   "source": [
    "__Creating a credentials file__ <br>\n",
    "This is done so you aren't uploading your private token and username onto a github repo for the whole world to see\n",
    "\n",
    "1. Create a file called credentials.json in this folder.\n",
    "2. Add your token and username info so it looks something like this:\n",
    "\n",
    "```\n",
    "{\n",
    "    \"username\": \"OOIAPI-FAKEAPINAME\",\n",
    "    \"token\": \"BBN3YLYO783\"\n",
    "}\n",
    "\n",
    "```"
   ]
  },
  {
   "cell_type": "code",
   "execution_count": 2,
   "metadata": {},
   "outputs": [],
   "source": [
    "# Load your credentials\n",
    "with open(\"credentials.json\", \"r\") as read_file:\n",
    "    data = json.load(read_file)\n",
    "token = data['token']\n",
    "username = data['username']"
   ]
  },
  {
   "cell_type": "markdown",
   "metadata": {},
   "source": [
    "### Pull Surface Nitrate Data from the [Apex Surface Mooring](http://ooi.visualocean.net/instruments/view/GS01SUMO-RID16-03-CTDBPF000)\n",
    "\n",
    "Example M2M url:\n",
    "https://ooinet.oceanobservatories.org/api/m2m/12576/sensor/inv/GS01SUMO/RID16/03-CTDBPF000/metadata"
   ]
  },
  {
   "cell_type": "code",
   "execution_count": 9,
   "metadata": {},
   "outputs": [],
   "source": [
    "# Build API Query\n",
    "DATA_API_BASE_URL = 'https://ooinet.oceanobservatories.org/api/m2m/12576/sensor/inv/'\n",
    "data_request_url = DATA_API_BASE_URL+\\\n",
    "                    'GS01SUMO/'+\\\n",
    "                    'RID16/'+\\\n",
    "                    '07-NUTNRB000//'+\\\n",
    "                    'telemetered/'+\\\n",
    "                    'nutnr_b_dcl_full_instrument'+'?'\n",
    "\n",
    "r = requests.get(data_request_url, params=None, auth=(username, token)) # Request data\n",
    "data = r.json() # verify request"
   ]
  },
  {
   "cell_type": "code",
   "execution_count": 10,
   "metadata": {},
   "outputs": [
    {
     "name": "stdout",
     "output_type": "stream",
     "text": [
      "{'outputURL': 'https://opendap.oceanobservatories.org/thredds/catalog/ooi/pdaniel@mbari.org/20180823T215502-GS01SUMO-RID16-07-NUTNRB000-telemetered-nutnr_b_dcl_full_instrument/catalog.html', 'numberOfSubJobs': 38, 'requestUUID': '58a681af-4cf7-4a4b-a2f8-02ae4a04d22e', 'allURLs': ['https://opendap.oceanobservatories.org/thredds/catalog/ooi/pdaniel@mbari.org/20180823T215502-GS01SUMO-RID16-07-NUTNRB000-telemetered-nutnr_b_dcl_full_instrument/catalog.html', 'https://opendap.oceanobservatories.org/async_results/pdaniel@mbari.org/20180823T215502-GS01SUMO-RID16-07-NUTNRB000-telemetered-nutnr_b_dcl_full_instrument'], 'sizeCalculation': 68874558, 'timeCalculation': 60}\n"
     ]
    }
   ],
   "source": [
    "# if data says something about a 404 message, double check the API url. Otherwwi\n",
    "print(data)"
   ]
  },
  {
   "cell_type": "markdown",
   "metadata": {},
   "source": [
    "__Waiting for the dataset to be built and sent to your THREDDS__"
   ]
  },
  {
   "cell_type": "code",
   "execution_count": 14,
   "metadata": {},
   "outputs": [
    {
     "name": "stdout",
     "output_type": "stream",
     "text": [
      "request completed\n",
      "CPU times: user 20.7 ms, sys: 4 ms, total: 24.7 ms\n",
      "Wall time: 324 ms\n"
     ]
    }
   ],
   "source": [
    "%%time\n",
    "check_complete = data['allURLs'][1] + '/status.txt'\n",
    "for i in range(1800): \n",
    "    r = requests.get(check_complete)\n",
    "    if r.status_code == requests.codes.ok:\n",
    "        print('request completed')\n",
    "        break\n",
    "    else:\n",
    "        time.sleep(1)"
   ]
  },
  {
   "cell_type": "markdown",
   "metadata": {},
   "source": [
    "### Pull the data from Thredds ###"
   ]
  },
  {
   "cell_type": "markdown",
   "metadata": {},
   "source": [
    "This chunk of code scrapes the thredds server associated with your username and finds each of the netCDF files that are associated with each deployment (three files in this case) and puts there URLs into a list"
   ]
  },
  {
   "cell_type": "code",
   "execution_count": 17,
   "metadata": {},
   "outputs": [
    {
     "data": {
      "text/plain": [
       "['https://opendap.oceanobservatories.org/thredds/dodsC/ooi/pdaniel@mbari.org/20180823T215502-GS01SUMO-RID16-07-NUTNRB000-telemetered-nutnr_b_dcl_full_instrument/deployment0003_GS01SUMO-RID16-07-NUTNRB000-telemetered-nutnr_b_dcl_full_instrument_20161125T020026.689000-20171025T020013.051000.nc',\n",
       " 'https://opendap.oceanobservatories.org/thredds/dodsC/ooi/pdaniel@mbari.org/20180823T215502-GS01SUMO-RID16-07-NUTNRB000-telemetered-nutnr_b_dcl_full_instrument/deployment0003_GS01SUMO-RID16-03-CTDBPF000-telemetered-ctdbp_cdef_dcl_instrument_20161125T011706.633000-20171025T014514.164000.nc',\n",
       " 'https://opendap.oceanobservatories.org/thredds/dodsC/ooi/pdaniel@mbari.org/20180823T215502-GS01SUMO-RID16-07-NUTNRB000-telemetered-nutnr_b_dcl_full_instrument/deployment0002_GS01SUMO-RID16-07-NUTNRB000-telemetered-nutnr_b_dcl_full_instrument_20151214T210054.051000-20161205T090039.117000.nc',\n",
       " 'https://opendap.oceanobservatories.org/thredds/dodsC/ooi/pdaniel@mbari.org/20180823T215502-GS01SUMO-RID16-07-NUTNRB000-telemetered-nutnr_b_dcl_full_instrument/deployment0002_GS01SUMO-RID16-03-CTDBPF000-telemetered-ctdbp_cdef_dcl_instrument_20151214T202006.149000-20161205T090522.930000.nc',\n",
       " 'https://opendap.oceanobservatories.org/thredds/dodsC/ooi/pdaniel@mbari.org/20180823T215502-GS01SUMO-RID16-07-NUTNRB000-telemetered-nutnr_b_dcl_full_instrument/deployment0001_GS01SUMO-RID16-07-NUTNRB000-telemetered-nutnr_b_dcl_full_instrument_20150218T220526.661000-20151222T180511.943000.nc',\n",
       " 'https://opendap.oceanobservatories.org/thredds/dodsC/ooi/pdaniel@mbari.org/20180823T215502-GS01SUMO-RID16-07-NUTNRB000-telemetered-nutnr_b_dcl_full_instrument/deployment0001_GS01SUMO-RID16-03-CTDBPF000-telemetered-ctdbp_cdef_dcl_instrument_20150218T211507.035000-20150611T000008.454000.nc']"
      ]
     },
     "execution_count": 17,
     "metadata": {},
     "output_type": "execute_result"
    }
   ],
   "source": [
    "url = data['allURLs'][0]\n",
    "tds_url = 'https://opendap.oceanobservatories.org/thredds/dodsC'\n",
    "datasets = requests.get(url).text\n",
    "urls = re.findall(r'href=[\\'\"]?([^\\'\" >]+)', datasets)\n",
    "x = re.findall(r'(ooi/.*?.nc)', datasets)\n",
    "for i in x:\n",
    "    if i.endswith('.nc') == False:\n",
    "        x.remove(i)\n",
    "for i in x:\n",
    "    try:\n",
    "        float(i[-4])\n",
    "    except:\n",
    "        x.remove(i)\n",
    "datasets = [os.path.join(tds_url, i) for i in x]\n",
    "datasets"
   ]
  },
  {
   "cell_type": "markdown",
   "metadata": {},
   "source": [
    "Xarray is amazing and can open multiple netCDF files if they have the same Coordinates, (which each instrument deployment should have!). \n",
    "\n",
    "These data a thrown into a xarray Dataset (this is sort of the fundamental unit of xarray and is basically a 3-D array (or more) that keeps some track of some of the metadata)|"
   ]
  },
  {
   "cell_type": "code",
   "execution_count": 19,
   "metadata": {},
   "outputs": [],
   "source": [
    "# This is a lazy hack to get the data once its already by queried and dumped in my thredds server\n",
    "datasets = ['https://opendap.oceanobservatories.org/thredds/dodsC/ooi/pdaniel@mbari.org/20180823T215502-GS01SUMO-RID16-07-NUTNRB000-telemetered-nutnr_b_dcl_full_instrument/deployment0003_GS01SUMO-RID16-07-NUTNRB000-telemetered-nutnr_b_dcl_full_instrument_20161125T020026.689000-20171025T020013.051000.nc',\n",
    "            'https://opendap.oceanobservatories.org/thredds/dodsC/ooi/pdaniel@mbari.org/20180823T215502-GS01SUMO-RID16-07-NUTNRB000-telemetered-nutnr_b_dcl_full_instrument/deployment0002_GS01SUMO-RID16-07-NUTNRB000-telemetered-nutnr_b_dcl_full_instrument_20151214T210054.051000-20161205T090039.117000.nc',\n",
    "            'https://opendap.oceanobservatories.org/thredds/dodsC/ooi/pdaniel@mbari.org/20180823T215502-GS01SUMO-RID16-07-NUTNRB000-telemetered-nutnr_b_dcl_full_instrument/deployment0001_GS01SUMO-RID16-07-NUTNRB000-telemetered-nutnr_b_dcl_full_instrument_20150218T220526.661000-20151222T180511.943000.nc']\n",
    "datasets = [d for d in datasets if d.find('CTDBPF000') == -1]"
   ]
  },
  {
   "cell_type": "code",
   "execution_count": 23,
   "metadata": {},
   "outputs": [],
   "source": [
    "ds = xr.open_mfdataset(datasets)\n",
    "ds = ds.swap_dims({'obs': 'time'})\n",
    "ds = ds.sortby('time') # data from different deployments can overlap so we want to sort all data by time stamp."
   ]
  },
  {
   "cell_type": "markdown",
   "metadata": {},
   "source": [
    "Lets print the data varaibles and the corresponding standard names"
   ]
  },
  {
   "cell_type": "code",
   "execution_count": 25,
   "metadata": {},
   "outputs": [
    {
     "name": "stdout",
     "output_type": "stream",
     "text": [
      "time\n",
      "lat\n",
      "lon\n"
     ]
    }
   ],
   "source": [
    "for var in ds.variables:\n",
    "    try:\n",
    "        ds[var].standard_name\n",
    "        print(var)\n",
    "    except: #hack to only print variables that have a standard name attribute\n",
    "        pass"
   ]
  },
  {
   "cell_type": "code",
   "execution_count": 26,
   "metadata": {},
   "outputs": [
    {
     "data": {
      "text/plain": [
       "<xarray.Dataset>\n",
       "Dimensions:                                 (time: 153591, wavelength: 256)\n",
       "Coordinates:\n",
       "    obs                                     (time) int64 0 1 2 3 4 5 6 7 8 9 ...\n",
       "  * time                                    (time) datetime64[ns] 2015-02-18T22:05:26.661000192 ...\n",
       "    lat                                     (time) float64 dask.array<shape=(153591,), chunksize=(153591,)>\n",
       "    lon                                     (time) float64 dask.array<shape=(153591,), chunksize=(153591,)>\n",
       "Dimensions without coordinates: wavelength\n",
       "Data variables:\n",
       "    deployment                              (time) int32 dask.array<shape=(153591,), chunksize=(153591,)>\n",
       "    id                                      (time) |S64 dask.array<shape=(153591,), chunksize=(153591,)>\n",
       "    aux_fitting_1                           (time) float64 dask.array<shape=(153591,), chunksize=(153591,)>\n",
       "    aux_fitting_2                           (time) float64 dask.array<shape=(153591,), chunksize=(153591,)>\n",
       "    aux_fitting_3                           (time) float64 dask.array<shape=(153591,), chunksize=(153591,)>\n",
       "    date_of_sample                          (time) float64 dask.array<shape=(153591,), chunksize=(153591,)>\n",
       "    dcl_controller_timestamp                (time) object dask.array<shape=(153591,), chunksize=(153591,)>\n",
       "    driver_timestamp                        (time) datetime64[ns] dask.array<shape=(153591,), chunksize=(153591,)>\n",
       "    frame_header                            (time) object dask.array<shape=(153591,), chunksize=(153591,)>\n",
       "    frame_type                              (time) object dask.array<shape=(153591,), chunksize=(153591,)>\n",
       "    humidity                                (time) float64 dask.array<shape=(153591,), chunksize=(153591,)>\n",
       "    ingestion_timestamp                     (time) datetime64[ns] dask.array<shape=(153591,), chunksize=(153591,)>\n",
       "    internal_timestamp                      (time) datetime64[ns] dask.array<shape=(153591,), chunksize=(153591,)>\n",
       "    lamp_time                               (time) float64 dask.array<shape=(153591,), chunksize=(153591,)>\n",
       "    nitrate_concentration                   (time) float64 dask.array<shape=(153591,), chunksize=(153591,)>\n",
       "    port_timestamp                          (time) datetime64[ns] dask.array<shape=(153591,), chunksize=(153591,)>\n",
       "    preferred_timestamp                     (time) object dask.array<shape=(153591,), chunksize=(153591,)>\n",
       "    provenance                              (time) |S64 dask.array<shape=(153591,), chunksize=(153591,)>\n",
       "    ref_channel_average                     (time) float64 dask.array<shape=(153591,), chunksize=(153591,)>\n",
       "    ref_channel_variance                    (time) float64 dask.array<shape=(153591,), chunksize=(153591,)>\n",
       "    rms_error                               (time) float64 dask.array<shape=(153591,), chunksize=(153591,)>\n",
       "    sea_water_dark                          (time) float64 dask.array<shape=(153591,), chunksize=(153591,)>\n",
       "    serial_number                           (time) object dask.array<shape=(153591,), chunksize=(153591,)>\n",
       "    spec_channel_average                    (time) float64 dask.array<shape=(153591,), chunksize=(153591,)>\n",
       "    spectral_channels                       (time, wavelength) float64 dask.array<shape=(153591, 256), chunksize=(153591, 256)>\n",
       "    temp_interior                           (time) float64 dask.array<shape=(153591,), chunksize=(153591,)>\n",
       "    temp_lamp                               (time) float64 dask.array<shape=(153591,), chunksize=(153591,)>\n",
       "    temp_spectrometer                       (time) float64 dask.array<shape=(153591,), chunksize=(153591,)>\n",
       "    time_of_sample                          (time) float64 dask.array<shape=(153591,), chunksize=(153591,)>\n",
       "    voltage_analog                          (time) float64 dask.array<shape=(153591,), chunksize=(153591,)>\n",
       "    voltage_lamp                            (time) float64 dask.array<shape=(153591,), chunksize=(153591,)>\n",
       "    voltage_main                            (time) float64 dask.array<shape=(153591,), chunksize=(153591,)>\n",
       "    temp                                    (time) float64 dask.array<shape=(153591,), chunksize=(153591,)>\n",
       "    practical_salinity                      (time) float64 dask.array<shape=(153591,), chunksize=(153591,)>\n",
       "    salinity_corrected_nitrate              (time) float64 dask.array<shape=(153591,), chunksize=(153591,)>\n",
       "    nitrate_concentration_qc_executed       (time) float64 dask.array<shape=(153591,), chunksize=(153591,)>\n",
       "    nitrate_concentration_qc_results        (time) float64 dask.array<shape=(153591,), chunksize=(153591,)>\n",
       "    salinity_corrected_nitrate_qc_executed  (time) float64 dask.array<shape=(153591,), chunksize=(153591,)>\n",
       "    salinity_corrected_nitrate_qc_results   (time) float64 dask.array<shape=(153591,), chunksize=(153591,)>\n",
       "Attributes:\n",
       "    _NCProperties:                      version=1|netcdflibversion=4.4.1.1|hd...\n",
       "    node:                               RID16\n",
       "    comment:                            \n",
       "    publisher_email:                    \n",
       "    sourceUrl:                          http://oceanobservatories.org/\n",
       "    collection_method:                  telemetered\n",
       "    stream:                             nutnr_b_dcl_full_instrument\n",
       "    featureType:                        point\n",
       "    creator_email:                      \n",
       "    publisher_name:                     Ocean Observatories Initiative\n",
       "    date_modified:                      2018-08-23T21:55:43.526593\n",
       "    keywords:                           \n",
       "    cdm_data_type:                      Point\n",
       "    references:                         More information can be found at http...\n",
       "    Metadata_Conventions:               Unidata Dataset Discovery v1.0\n",
       "    date_created:                       2018-08-23T21:55:43.526587\n",
       "    id:                                 GS01SUMO-RID16-07-NUTNRB000-telemeter...\n",
       "    requestUUID:                        e4955cf9-bbbc-422a-a692-b631a566c0d4\n",
       "    contributor_role:                   \n",
       "    summary:                            Dataset Generated by Stream Engine fr...\n",
       "    keywords_vocabulary:                \n",
       "    institution:                        Ocean Observatories Initiative\n",
       "    naming_authority:                   org.oceanobservatories\n",
       "    feature_Type:                       point\n",
       "    infoUrl:                            http://oceanobservatories.org/\n",
       "    license:                            \n",
       "    contributor_name:                   \n",
       "    uuid:                               e4955cf9-bbbc-422a-a692-b631a566c0d4\n",
       "    creator_name:                       Ocean Observatories Initiative\n",
       "    title:                              Data produced by Stream Engine versio...\n",
       "    sensor:                             07-NUTNRB000\n",
       "    standard_name_vocabulary:           NetCDF Climate and Forecast (CF) Meta...\n",
       "    acknowledgement:                    \n",
       "    Conventions:                        CF-1.6\n",
       "    project:                            Ocean Observatories Initiative\n",
       "    source:                             GS01SUMO-RID16-07-NUTNRB000-telemeter...\n",
       "    publisher_url:                      http://oceanobservatories.org/\n",
       "    creator_url:                        http://oceanobservatories.org/\n",
       "    nodc_template_version:              NODC_NetCDF_TimeSeries_Orthogonal_Tem...\n",
       "    subsite:                            GS01SUMO\n",
       "    processing_level:                   L2\n",
       "    history:                            2018-08-23T21:55:43.526508 generated ...\n",
       "    Manufacturer:                       Satlantic\n",
       "    ModelNumber:                        ISUS\n",
       "    SerialNumber:                       284\n",
       "    Description:                        Nitrate: NUTNR Series B\n",
       "    FirmwareVersion:                    Not specified.\n",
       "    SoftwareVersion:                    Not specified.\n",
       "    AssetUniqueID:                      CGINS-NUTNRB-00284\n",
       "    Notes:                              Not specified.\n",
       "    Owner:                              Not specified.\n",
       "    RemoteResources:                    []\n",
       "    ShelfLifeExpirationDate:            Not specified.\n",
       "    Mobile:                             False\n",
       "    AssetManagementRecordLastModified:  2018-08-23T12:36:39.610000\n",
       "    time_coverage_start:                2016-11-25T02:00:26.689000\n",
       "    time_coverage_end:                  2017-10-25T02:00:13.051000\n",
       "    time_coverage_resolution:           P581.82S\n",
       "    geospatial_lat_min:                 -54.4076\n",
       "    geospatial_lat_max:                 -54.4076\n",
       "    geospatial_lat_units:               degrees_north\n",
       "    geospatial_lat_resolution:          0.1\n",
       "    geospatial_lon_min:                 -89.35673333\n",
       "    geospatial_lon_max:                 -89.35673333\n",
       "    geospatial_lon_units:               degrees_east\n",
       "    geospatial_lon_resolution:          0.1\n",
       "    geospatial_vertical_units:          meters\n",
       "    geospatial_vertical_resolution:     0.1\n",
       "    geospatial_vertical_positive:       down\n",
       "    DODS.strlen:                        4\n",
       "    DODS.dimName:                       string4\n",
       "    DODS_EXTRA.Unlimited_Dimension:     obs"
      ]
     },
     "execution_count": 26,
     "metadata": {},
     "output_type": "execute_result"
    }
   ],
   "source": [
    "ds"
   ]
  },
  {
   "cell_type": "code",
   "execution_count": 29,
   "metadata": {},
   "outputs": [
    {
     "name": "stdout",
     "output_type": "stream",
     "text": [
      "CPU times: user 34.2 ms, sys: 25.2 ms, total: 59.5 ms\n",
      "Wall time: 65.1 ms\n"
     ]
    }
   ],
   "source": [
    "%%time\n",
    "variables_of_interest = [\"nitrate_concentration\",\"time\"]\n",
    "data = [ds[var].values for var in variables_of_interest]\n",
    "data_array = np.array((data))\n",
    "data_array = data_array.T"
   ]
  },
  {
   "cell_type": "markdown",
   "metadata": {},
   "source": [
    "__ Convert dataset into a pandas dataframe __"
   ]
  },
  {
   "cell_type": "code",
   "execution_count": 30,
   "metadata": {
    "scrolled": true
   },
   "outputs": [],
   "source": [
    "df = pd.DataFrame(data=data_array,columns=variables_of_interest)\n",
    "df['dateTime'] = pd.to_datetime(df['time'])\n",
    "df.index = df['dateTime']\n",
    "df.drop(labels=['time'],axis=1)\n",
    "df = df.convert_objects(convert_numeric=True);"
   ]
  },
  {
   "cell_type": "markdown",
   "metadata": {},
   "source": [
    "#### Subsample to hourly data"
   ]
  },
  {
   "cell_type": "code",
   "execution_count": 31,
   "metadata": {},
   "outputs": [],
   "source": [
    "hourly = df.resample(rule='1H').mean()\n",
    "hourly['dateTime'] = hourly.index"
   ]
  },
  {
   "cell_type": "markdown",
   "metadata": {},
   "source": [
    "### Pickle data for ease of access"
   ]
  },
  {
   "cell_type": "code",
   "execution_count": 32,
   "metadata": {},
   "outputs": [],
   "source": [
    "hourly.to_pickle('./data_dump/surface_nitrate')"
   ]
  },
  {
   "cell_type": "code",
   "execution_count": null,
   "metadata": {},
   "outputs": [],
   "source": []
  }
 ],
 "metadata": {
  "anaconda-cloud": {},
  "kernelspec": {
   "display_name": "Python [default]",
   "language": "python",
   "name": "python3"
  },
  "language_info": {
   "codemirror_mode": {
    "name": "ipython",
    "version": 3
   },
   "file_extension": ".py",
   "mimetype": "text/x-python",
   "name": "python",
   "nbconvert_exporter": "python",
   "pygments_lexer": "ipython3",
   "version": "3.5.5"
  }
 },
 "nbformat": 4,
 "nbformat_minor": 2
}
