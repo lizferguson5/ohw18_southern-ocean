{
 "cells": [
  {
   "cell_type": "code",
   "execution_count": 33,
   "metadata": {},
   "outputs": [],
   "source": [
    "#Import relevant python libraries\n",
    "import requests, json, time, datetime, warnings, re, os\n",
    "import netCDF4 as nc\n",
    "import matplotlib.pyplot as plt\n",
    "import matplotlib.dates as dates\n",
    "\n",
    "import xarray as xr\n",
    "import pandas as pd\n"
   ]
  },
  {
   "cell_type": "code",
   "execution_count": 48,
   "metadata": {},
   "outputs": [],
   "source": [
    "#Point to directory containing downloaded netcdf files from the Southern Ocean array\n",
    "pathname = 'C:/Users/Hilary/Dropbox/OceanHackWeek/southern-ocean-ooi-downloads/'\n",
    "list_files = os.listdir(pathname)\n",
    "#filename = 'deployment0002_GS03FLMA-RIS01-03-DOSTAD000-recovered_host-dosta_abcdjm_sio_instrument_recovered_20151217T194501-20161206T093001.nc'"
   ]
  },
  {
   "cell_type": "code",
   "execution_count": 61,
   "metadata": {},
   "outputs": [],
   "source": [
    "#Remove any files that aren't netcdf - defensive coding\n",
    "for i in list_files:\n",
    "    if i.endswith('.nc') == False:\n",
    "        list_files.remove(i)\n",
    "filenames = [os.path.join(pathname, i) for i in list_files]"
   ]
  },
  {
   "cell_type": "code",
   "execution_count": 135,
   "metadata": {},
   "outputs": [],
   "source": [
    "#Find all files that match a given platform\n",
    "platform = 'FLMB'\n",
    "\n",
    "platform_sel = []\n",
    "for i in filenames:\n",
    "    if platform in i:\n",
    "        platform_sel.append(i)"
   ]
  },
  {
   "cell_type": "code",
   "execution_count": 136,
   "metadata": {},
   "outputs": [
    {
     "data": {
      "text/plain": [
       "['C:/Users/Hilary/Dropbox/OceanHackWeek/southern-ocean-ooi-downloads/deployment0001_GS03FLMB-RIS01-03-DOSTAD000-recovered_host-dosta_abcdjm_sio_instrument_recovered_20150223T203001-20151026T123001.nc',\n",
       " 'C:/Users/Hilary/Dropbox/OceanHackWeek/southern-ocean-ooi-downloads/deployment0002_GS03FLMB-RIS01-03-DOSTAD000-recovered_host-dosta_abcdjm_sio_instrument_recovered_20151216T194501-20160611T010001.nc',\n",
       " 'C:/Users/Hilary/Dropbox/OceanHackWeek/southern-ocean-ooi-downloads/deployment0003_GS03FLMB-RIS01-03-DOSTAD000-recovered_host-dosta_abcdjm_sio_instrument_recovered_20161203T191501-20170331T231501.nc']"
      ]
     },
     "execution_count": 136,
     "metadata": {},
     "output_type": "execute_result"
    }
   ],
   "source": [
    "#Find all files from that platform that match a given sensor type\n",
    "sensor = 'DOSTA'\n",
    "\n",
    "sensor_sel = []\n",
    "for i in platform_sel:\n",
    "    if sensor in i:\n",
    "        sensor_sel.append(i)\n",
    "        \n",
    "sensor_sel"
   ]
  },
  {
   "cell_type": "code",
   "execution_count": 137,
   "metadata": {},
   "outputs": [],
   "source": [
    "#Define a function for opening each data file\n",
    "\n",
    "def open_data(file):\n",
    "    ds = xr.open_dataset(file)\n",
    "    ds = ds.swap_dims({'obs': 'time'})\n",
    "    ds = ds.sortby('time')\n",
    "    return ds"
   ]
  },
  {
   "cell_type": "code",
   "execution_count": 138,
   "metadata": {},
   "outputs": [],
   "source": [
    "#Open each file in the list using the function defined above\n",
    "\n",
    "all_ds = [open_data(file) for file in sensor_sel]"
   ]
  },
  {
   "cell_type": "code",
   "execution_count": 139,
   "metadata": {},
   "outputs": [
    {
     "data": {
      "image/png": "[encoded data removed]",
      "text/plain": [
       "<matplotlib.figure.Figure at 0x24a31e15a58>"
      ]
     },
     "metadata": {},
     "output_type": "display_data"
    }
   ],
   "source": [
    "#Plot data from all datasets\n",
    "\n",
    "fig, ax = plt.subplots(1)\n",
    "fig.set_size_inches(16, 6)\n",
    "\n",
    "for i,value in enumerate(all_ds):\n",
    "    ax.plot(all_ds[i]['time'], all_ds[i]['dissolved_oxygen'], marker='.', linewidth=0)\n",
    "ax.grid()\n",
    "\n",
    "plt.title('Global Southern Ocean ' + platform + ' ' + sensor)\n",
    "plt.ylabel(sensor)\n",
    "plt.xlabel('Time')\n",
    "plt.show()"
   ]
  },
  {
   "cell_type": "code",
   "execution_count": null,
   "metadata": {},
   "outputs": [],
   "source": []
  }
 ],
 "metadata": {
  "kernelspec": {
   "display_name": "Python 3",
   "language": "python",
   "name": "python3"
  },
  "language_info": {
   "codemirror_mode": {
    "name": "ipython",
    "version": 3
   },
   "file_extension": ".py",
   "mimetype": "text/x-python",
   "name": "python",
   "nbconvert_exporter": "python",
   "pygments_lexer": "ipython3",
   "version": "3.6.4"
  }
 },
 "nbformat": 4,
 "nbformat_minor": 2
}
