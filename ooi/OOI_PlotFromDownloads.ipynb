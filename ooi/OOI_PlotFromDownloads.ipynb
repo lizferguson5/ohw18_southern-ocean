{
 "cells": [
  {
   "cell_type": "code",
   "execution_count": 310,
   "metadata": {},
   "outputs": [],
   "source": [
    "#Import relevant python libraries\n",
    "import requests, json, time, datetime, warnings, re, os\n",
    "import netCDF4 as nc\n",
    "import matplotlib.pyplot as plt\n",
    "import matplotlib.dates as dates\n",
    "\n",
    "import xarray as xr\n",
    "import pandas as pd\n"
   ]
  },
  {
   "cell_type": "code",
   "execution_count": 369,
   "metadata": {},
   "outputs": [],
   "source": [
    "#Point to directory containing downloaded netcdf files from the Southern Ocean array\n",
    "pathname = 'C:/Users/Hilary/Dropbox/OceanHackWeek/southern-ocean-ooi-downloads/'\n",
    "list_files = os.listdir(pathname)"
   ]
  },
  {
   "cell_type": "code",
   "execution_count": 370,
   "metadata": {},
   "outputs": [],
   "source": [
    "#Remove any files that aren't netcdf - defensive coding\n",
    "for i in list_files:\n",
    "    if i.endswith('.nc') == False:\n",
    "        list_files.remove(i)\n",
    "filenames = [os.path.join(pathname, i) for i in list_files]"
   ]
  },
  {
   "cell_type": "code",
   "execution_count": 385,
   "metadata": {},
   "outputs": [],
   "source": [
    "#Find all files that match a given platform\n",
    "#platform = 'FLMA'\n",
    "#platform = 'FLMB'\n",
    "#platform = 'SUMO-SBD'\n",
    "platform = 'SUMO-RID16'\n",
    "#platform = 'SUMO-RII' #--> telemetered oxygen from these don't have the derived dissolved_oxygen variable, for pCO2 only have for 052, not 051 or 053\n",
    "\n",
    "platform_sel = []\n",
    "for i in filenames:\n",
    "    if platform in i:\n",
    "        platform_sel.append(i)"
   ]
  },
  {
   "cell_type": "code",
   "execution_count": 386,
   "metadata": {},
   "outputs": [
    {
     "data": {
      "text/plain": [
       "['C:/Users/Hilary/Dropbox/OceanHackWeek/southern-ocean-ooi-downloads/deployment0001_GS01SUMO-RID16-05-PCO2WB000-telemetered-pco2w_abc_dcl_instrument_20150218T220513.709000-20151222T180735.451000.nc',\n",
       " 'C:/Users/Hilary/Dropbox/OceanHackWeek/southern-ocean-ooi-downloads/deployment0002_GS01SUMO-RID16-05-PCO2WB000-telemetered-pco2w_abc_dcl_instrument_20151214T220510.207000-20161126T100546.693000.nc']"
      ]
     },
     "execution_count": 386,
     "metadata": {},
     "output_type": "execute_result"
    }
   ],
   "source": [
    "#Find all files from that platform that match a given sensor type\n",
    "#sensor = 'DOSTA'\n",
    "#variable_name = 'dissolved_oxygen'\n",
    "#sensor = 'PHSEN'\n",
    "#variable_name = 'phsen_abcdef_ph_seawater'\n",
    "#sensor = 'FLORT'\n",
    "#variable_name = 'fluorometric_chlorophyll_a'\n",
    "#variable_name = 'optical_backscatter'\n",
    "#sensor = 'NUTNR'\n",
    "#variable_name = 'salinity_corrected_nitrate'\n",
    "sensor = 'PCO2W'\n",
    "variable_name = 'pco2_seawater'\n",
    "#sensor = 'PCO2AA'\n",
    "#variable_name = 'partial_pressure_co2_ssw'\n",
    "\n",
    "sensor_sel = []\n",
    "for i in platform_sel:\n",
    "    if sensor in i:\n",
    "        if 'blank' in i:\n",
    "            pass\n",
    "        else:\n",
    "            sensor_sel.append(i)\n",
    "        \n",
    "sensor_sel"
   ]
  },
  {
   "cell_type": "code",
   "execution_count": 387,
   "metadata": {},
   "outputs": [],
   "source": [
    "#Define a function for opening each data file\n",
    "\n",
    "def open_data(file):\n",
    "    ds = xr.open_dataset(file)\n",
    "    ds = ds.swap_dims({'obs': 'time'})\n",
    "    ds = ds.sortby('time')\n",
    "    return ds"
   ]
  },
  {
   "cell_type": "code",
   "execution_count": 388,
   "metadata": {},
   "outputs": [],
   "source": [
    "#Open each file in the list using the function defined above\n",
    "\n",
    "all_ds = [open_data(file) for file in sensor_sel]"
   ]
  },
  {
   "cell_type": "code",
   "execution_count": 390,
   "metadata": {},
   "outputs": [],
   "source": [
    "# Uncomment this to print out the netcdf file info\n",
    "#all_ds[1]"
   ]
  },
  {
   "cell_type": "code",
   "execution_count": 384,
   "metadata": {},
   "outputs": [
    {
     "data": {
      "image/png": "[encoded data removed]",
      "text/plain": [
       "<matplotlib.figure.Figure at 0x24a002be3c8>"
      ]
     },
     "metadata": {},
     "output_type": "display_data"
    }
   ],
   "source": [
    "#Plot data from all datasets\n",
    "\n",
    "fig, ax = plt.subplots(1)\n",
    "fig.set_size_inches(16, 6)\n",
    "\n",
    "for i,value in enumerate(all_ds):\n",
    "    ax.plot(all_ds[i]['time'], all_ds[i][variable_name], marker='.', linewidth=0)\n",
    "ax.grid()\n",
    "\n",
    "plt.title('Global Southern Ocean ' + platform + ' ' + sensor)\n",
    "plt.ylabel(variable_name)\n",
    "plt.xlabel('Time')\n",
    "#plt.ylim(0, 10)\n",
    "plt.show()\n",
    "\n",
    "#Save figure\n",
    "fig.savefig('OOI_SouthernOcean_' + platform + '_' + sensor + '.png', dpi=fig.dpi)"
   ]
  },
  {
   "cell_type": "code",
   "execution_count": null,
   "metadata": {},
   "outputs": [],
   "source": []
  }
 ],
 "metadata": {
  "kernelspec": {
   "display_name": "Python 3",
   "language": "python",
   "name": "python3"
  },
  "language_info": {
   "codemirror_mode": {
    "name": "ipython",
    "version": 3
   },
   "file_extension": ".py",
   "mimetype": "text/x-python",
   "name": "python",
   "nbconvert_exporter": "python",
   "pygments_lexer": "ipython3",
   "version": "3.6.4"
  }
 },
 "nbformat": 4,
 "nbformat_minor": 2
}
