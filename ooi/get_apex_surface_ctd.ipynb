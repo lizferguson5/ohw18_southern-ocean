{
 "cells": [
  {
   "cell_type": "code",
   "execution_count": 20,
   "metadata": {},
   "outputs": [],
   "source": [
    "% matplotlib inline\n",
    "import requests, warnings, json, time, os, re\n",
    "import xarray as xr\n",
    "import numpy as np\n",
    "import pandas as pd\n",
    "import matplotlib.pyplot as plt\n",
    "warnings.filterwarnings('ignore')"
   ]
  },
  {
   "cell_type": "markdown",
   "metadata": {},
   "source": [
    "### IOOS Southern Ocean Data requests\n",
    "\n",
    "Ask Sheri about the Water pCO2 <br>\n",
    "DO - looks bad (Be weary)!"
   ]
  },
  {
   "cell_type": "markdown",
   "metadata": {},
   "source": [
    "__Creating a credentials file__ <br>\n",
    "This is done so you aren't uploading your private token and username onto a github repo for the whole world to see\n",
    "\n",
    "1. Create a file called credentials.json in this folder.\n",
    "2. Add your token and username info so it looks something like this:\n",
    "\n",
    "```\n",
    "{\n",
    "    \"username\": \"OOIAPI-FAKEAPINAME\",\n",
    "    \"token\": \"BBN3YLYO783\"\n",
    "}\n",
    "\n",
    "```"
   ]
  },
  {
   "cell_type": "code",
   "execution_count": 29,
   "metadata": {},
   "outputs": [],
   "source": [
    "# Load your credentials\n",
    "with open(\"credentials.json\", \"r\") as read_file:\n",
    "    data = json.load(read_file)\n",
    "token = data['token']\n",
    "username = data['username']"
   ]
  },
  {
   "cell_type": "markdown",
   "metadata": {},
   "source": [
    "### Pull Surface CTD Data from the [Apex Surface Mooring](http://ooi.visualocean.net/instruments/view/GS01SUMO-RID16-03-CTDBPF000)\n",
    "\n",
    "Example M2M url:\n",
    "https://ooinet.oceanobservatories.org/api/m2m/12576/sensor/inv/GS01SUMO/RID16/03-CTDBPF000/metadata"
   ]
  },
  {
   "cell_type": "code",
   "execution_count": 30,
   "metadata": {},
   "outputs": [],
   "source": [
    "# Build API Query\n",
    "DATA_API_BASE_URL = 'https://ooinet.oceanobservatories.org/api/m2m/12576/sensor/inv/'\n",
    "data_request_url = DATA_API_BASE_URL+\\\n",
    "                    'GS01SUMO/'+\\\n",
    "                    'RID16/'+\\\n",
    "                    '03-CTDBPF000/'+\\\n",
    "                    'telemetered/'+\\\n",
    "                    'ctdbp_cdef_dcl_instrument'+'?'\n",
    "\n",
    "r = requests.get(data_request_url, params=None, auth=(username, token)) # Request data\n",
    "data = r.json() # verify request"
   ]
  },
  {
   "cell_type": "code",
   "execution_count": 31,
   "metadata": {},
   "outputs": [
    {
     "name": "stdout",
     "output_type": "stream",
     "text": [
      "{'timeCalculation': 159, 'numberOfSubJobs': 675, 'allURLs': ['https://opendap.oceanobservatories.org/thredds/catalog/ooi/pdaniel@mbari.org/20180822T225533-GS01SUMO-RID16-03-CTDBPF000-telemetered-ctdbp_cdef_dcl_instrument/catalog.html', 'https://opendap.oceanobservatories.org/async_results/pdaniel@mbari.org/20180822T225533-GS01SUMO-RID16-03-CTDBPF000-telemetered-ctdbp_cdef_dcl_instrument'], 'sizeCalculation': 757591454, 'requestUUID': 'fcc0f0ce-56c4-4119-b4ac-f46d184a6f0a', 'outputURL': 'https://opendap.oceanobservatories.org/thredds/catalog/ooi/pdaniel@mbari.org/20180822T225533-GS01SUMO-RID16-03-CTDBPF000-telemetered-ctdbp_cdef_dcl_instrument/catalog.html'}\n"
     ]
    }
   ],
   "source": [
    "# if data says something about a 404 message, double check the API url. Otherwwi\n",
    "print(data)"
   ]
  },
  {
   "cell_type": "markdown",
   "metadata": {},
   "source": [
    "__Waiting for the dataset to be built and sent to your THREDDS__"
   ]
  },
  {
   "cell_type": "code",
   "execution_count": 32,
   "metadata": {},
   "outputs": [
    {
     "name": "stdout",
     "output_type": "stream",
     "text": [
      "CPU times: user 41 s, sys: 3.15 s, total: 44.2 s\n",
      "Wall time: 39min 24s\n"
     ]
    }
   ],
   "source": [
    "%%time\n",
    "check_complete = data['allURLs'][1] + '/status.txt'\n",
    "for i in range(1800): \n",
    "    r = requests.get(check_complete)\n",
    "    if r.status_code == requests.codes.ok:\n",
    "        print('request completed')\n",
    "        break\n",
    "    else:\n",
    "        time.sleep(1)"
   ]
  },
  {
   "cell_type": "markdown",
   "metadata": {},
   "source": [
    "### Pull the data from Thredds ###"
   ]
  },
  {
   "cell_type": "markdown",
   "metadata": {},
   "source": [
    "This chunk of code scrapes the thredds server associated with your username and finds each of the netCDF files that are associated with each deployment (three files in this case) and puts there URLs into a list"
   ]
  },
  {
   "cell_type": "code",
   "execution_count": 12,
   "metadata": {},
   "outputs": [
    {
     "data": {
      "text/plain": [
       "['https://opendap.oceanobservatories.org/thredds/dodsC/ooi/pdaniel@mbari.org/20180822T045324-GS01SUMO-RID16-03-CTDBPF000-telemetered-ctdbp_cdef_dcl_instrument/deployment0003_GS01SUMO-RID16-03-CTDBPF000-telemetered-ctdbp_cdef_dcl_instrument_20161125T011706.633000-20180821T234514.654000.nc',\n",
       " 'https://opendap.oceanobservatories.org/thredds/dodsC/ooi/pdaniel@mbari.org/20180822T045324-GS01SUMO-RID16-03-CTDBPF000-telemetered-ctdbp_cdef_dcl_instrument/deployment0002_GS01SUMO-RID16-03-CTDBPF000-telemetered-ctdbp_cdef_dcl_instrument_20151214T202006.149000-20161205T090522.930000.nc',\n",
       " 'https://opendap.oceanobservatories.org/thredds/dodsC/ooi/pdaniel@mbari.org/20180822T045324-GS01SUMO-RID16-03-CTDBPF000-telemetered-ctdbp_cdef_dcl_instrument/deployment0001_GS01SUMO-RID16-03-CTDBPF000-telemetered-ctdbp_cdef_dcl_instrument_20150218T211507.035000-20150611T000008.454000.nc']"
      ]
     },
     "execution_count": 12,
     "metadata": {},
     "output_type": "execute_result"
    }
   ],
   "source": [
    "url = data['allURLs'][0]\n",
    "tds_url = 'https://opendap.oceanobservatories.org/thredds/dodsC'\n",
    "datasets = requests.get(url).text\n",
    "urls = re.findall(r'href=[\\'\"]?([^\\'\" >]+)', datasets)\n",
    "x = re.findall(r'(ooi/.*?.nc)', datasets)\n",
    "for i in x:\n",
    "    if i.endswith('.nc') == False:\n",
    "        x.remove(i)\n",
    "for i in x:\n",
    "    try:\n",
    "        float(i[-4])\n",
    "    except:\n",
    "        x.remove(i)\n",
    "datasets = [os.path.join(tds_url, i) for i in x]\n",
    "datasets"
   ]
  },
  {
   "cell_type": "markdown",
   "metadata": {},
   "source": [
    "Xarray is amazing and can open multiple netCDF files if they have the same Coordinates, (which each instrument deployment should have!). \n",
    "\n",
    "These data a thrown into a xarray Dataset (this is sort of the fundamental unit of xarray and is basically a 3-D array (or more) that keeps some track of some of the metadata)"
   ]
  },
  {
   "cell_type": "code",
   "execution_count": 7,
   "metadata": {},
   "outputs": [],
   "source": [
    "datasets = ['https://opendap.oceanobservatories.org/thredds/dodsC/ooi/pdaniel@mbari.org/20180822T045324-GS01SUMO-RID16-03-CTDBPF000-telemetered-ctdbp_cdef_dcl_instrument/deployment0003_GS01SUMO-RID16-03-CTDBPF000-telemetered-ctdbp_cdef_dcl_instrument_20161125T011706.633000-20180821T234514.654000.nc',\n",
    " 'https://opendap.oceanobservatories.org/thredds/dodsC/ooi/pdaniel@mbari.org/20180822T045324-GS01SUMO-RID16-03-CTDBPF000-telemetered-ctdbp_cdef_dcl_instrument/deployment0002_GS01SUMO-RID16-03-CTDBPF000-telemetered-ctdbp_cdef_dcl_instrument_20151214T202006.149000-20161205T090522.930000.nc',\n",
    " 'https://opendap.oceanobservatories.org/thredds/dodsC/ooi/pdaniel@mbari.org/20180822T045324-GS01SUMO-RID16-03-CTDBPF000-telemetered-ctdbp_cdef_dcl_instrument/deployment0001_GS01SUMO-RID16-03-CTDBPF000-telemetered-ctdbp_cdef_dcl_instrument_20150218T211507.035000-20150611T000008.454000.nc']"
   ]
  },
  {
   "cell_type": "code",
   "execution_count": 14,
   "metadata": {},
   "outputs": [],
   "source": [
    "data_url = \"https://opendap.oceanobservatories.org/thredds/dodsC/ooi/pdaniel@mbari.org/20180822T045324-GS01SUMO-RID16-03-CTDBPF000-telemetered-ctdbp_cdef_dcl_instrument/deployment0003_GS01SUMO-RID16-03-CTDBPF000-telemetered-ctdbp_cdef_dcl_instrument_20161125T011706.633000-20180821T234514.654000.nc\"\n",
    "ds = xr.open_dataset(data_url)"
   ]
  },
  {
   "cell_type": "code",
   "execution_count": 15,
   "metadata": {},
   "outputs": [
    {
     "data": {
      "text/plain": [
       "<xarray.Dataset>\n",
       "Dimensions:                         (obs: 63423)\n",
       "Coordinates:\n",
       "  * obs                             (obs) int32 0 1 2 3 4 5 6 7 8 9 10 11 12 ...\n",
       "    time                            (obs) datetime64[ns] ...\n",
       "    pressure                        (obs) float64 ...\n",
       "    lat                             (obs) float64 ...\n",
       "    lon                             (obs) float64 ...\n",
       "Data variables:\n",
       "    deployment                      (obs) int32 ...\n",
       "    id                              (obs) |S64 ...\n",
       "    conductivity                    (obs) float64 ...\n",
       "    date_time_string                (obs) object ...\n",
       "    dcl_controller_timestamp        (obs) object ...\n",
       "    driver_timestamp                (obs) datetime64[ns] ...\n",
       "    ingestion_timestamp             (obs) datetime64[ns] ...\n",
       "    internal_timestamp              (obs) datetime64[ns] ...\n",
       "    port_timestamp                  (obs) datetime64[ns] ...\n",
       "    preferred_timestamp             (obs) object ...\n",
       "    provenance                      (obs) |S64 ...\n",
       "    temp                            (obs) float64 ...\n",
       "    practical_salinity              (obs) float64 ...\n",
       "    density                         (obs) float64 ...\n",
       "    conductivity_qc_executed        (obs) float64 ...\n",
       "    conductivity_qc_results         (obs) float64 ...\n",
       "    pressure_qc_executed            (obs) float64 ...\n",
       "    pressure_qc_results             (obs) float64 ...\n",
       "    temp_qc_executed                (obs) float64 ...\n",
       "    temp_qc_results                 (obs) float64 ...\n",
       "    density_qc_executed             (obs) float64 ...\n",
       "    density_qc_results              (obs) float64 ...\n",
       "    practical_salinity_qc_executed  (obs) float64 ...\n",
       "    practical_salinity_qc_results   (obs) float64 ...\n",
       "Attributes:\n",
       "    _NCProperties:                      version=1|netcdflibversion=4.4.1.1|hd...\n",
       "    node:                               RID16\n",
       "    comment:                            \n",
       "    publisher_email:                    \n",
       "    sourceUrl:                          http://oceanobservatories.org/\n",
       "    collection_method:                  telemetered\n",
       "    stream:                             ctdbp_cdef_dcl_instrument\n",
       "    featureType:                        point\n",
       "    creator_email:                      \n",
       "    publisher_name:                     Ocean Observatories Initiative\n",
       "    date_modified:                      2018-08-22T04:54:23.753165\n",
       "    keywords:                           \n",
       "    cdm_data_type:                      Point\n",
       "    references:                         More information can be found at http...\n",
       "    Metadata_Conventions:               Unidata Dataset Discovery v1.0\n",
       "    date_created:                       2018-08-22T04:54:23.753162\n",
       "    id:                                 GS01SUMO-RID16-03-CTDBPF000-telemeter...\n",
       "    requestUUID:                        e7baf365-a547-4a2f-941b-704680a39bd9\n",
       "    contributor_role:                   \n",
       "    summary:                            Dataset Generated by Stream Engine fr...\n",
       "    keywords_vocabulary:                \n",
       "    institution:                        Ocean Observatories Initiative\n",
       "    naming_authority:                   org.oceanobservatories\n",
       "    feature_Type:                       point\n",
       "    infoUrl:                            http://oceanobservatories.org/\n",
       "    license:                            \n",
       "    contributor_name:                   \n",
       "    uuid:                               e7baf365-a547-4a2f-941b-704680a39bd9\n",
       "    creator_name:                       Ocean Observatories Initiative\n",
       "    title:                              Data produced by Stream Engine versio...\n",
       "    sensor:                             03-CTDBPF000\n",
       "    standard_name_vocabulary:           NetCDF Climate and Forecast (CF) Meta...\n",
       "    acknowledgement:                    \n",
       "    Conventions:                        CF-1.6\n",
       "    project:                            Ocean Observatories Initiative\n",
       "    source:                             GS01SUMO-RID16-03-CTDBPF000-telemeter...\n",
       "    publisher_url:                      http://oceanobservatories.org/\n",
       "    creator_url:                        http://oceanobservatories.org/\n",
       "    nodc_template_version:              NODC_NetCDF_TimeSeries_Orthogonal_Tem...\n",
       "    subsite:                            GS01SUMO\n",
       "    processing_level:                   L2\n",
       "    history:                            2018-08-22T04:54:23.753128 generated ...\n",
       "    Manufacturer:                       Sea-Bird Electronics\n",
       "    ModelNumber:                        SBE 16plus V2\n",
       "    SerialNumber:                       16-50060\n",
       "    Description:                        CTD Pumped: CTDBP Series F\n",
       "    FirmwareVersion:                    Not specified.\n",
       "    SoftwareVersion:                    Not specified.\n",
       "    AssetUniqueID:                      CGINS-CTDBPF-50060\n",
       "    Notes:                              Not specified.\n",
       "    Owner:                              Not specified.\n",
       "    RemoteResources:                    []\n",
       "    ShelfLifeExpirationDate:            Not specified.\n",
       "    Mobile:                             False\n",
       "    AssetManagementRecordLastModified:  2018-08-16T12:31:45.629000\n",
       "    time_coverage_start:                2016-11-25T01:17:06.633000\n",
       "    time_coverage_end:                  2018-08-21T23:45:14.654000\n",
       "    time_coverage_resolution:           P864.96S\n",
       "    geospatial_lat_min:                 -54.4076\n",
       "    geospatial_lat_max:                 -54.4076\n",
       "    geospatial_lat_units:               degrees_north\n",
       "    geospatial_lat_resolution:          0.1\n",
       "    geospatial_lon_min:                 -89.35673333\n",
       "    geospatial_lon_max:                 -89.35673333\n",
       "    geospatial_lon_units:               degrees_east\n",
       "    geospatial_lon_resolution:          0.1\n",
       "    geospatial_vertical_units:          meters\n",
       "    geospatial_vertical_resolution:     0.1\n",
       "    geospatial_vertical_positive:       down\n",
       "    DODS.strlen:                        36\n",
       "    DODS.dimName:                       string36\n",
       "    DODS_EXTRA.Unlimited_Dimension:     obs"
      ]
     },
     "execution_count": 15,
     "metadata": {},
     "output_type": "execute_result"
    }
   ],
   "source": [
    "ds"
   ]
  },
  {
   "cell_type": "code",
   "execution_count": 8,
   "metadata": {},
   "outputs": [],
   "source": [
    "ds = xr.open_mfdataset(datasets)\n",
    "ds = ds.swap_dims({'obs': 'time'})\n",
    "ds = ds.sortby('time') # data from different deployments can overlap so we want to sort all data by time stamp."
   ]
  },
  {
   "cell_type": "markdown",
   "metadata": {},
   "source": [
    "Lets print the data varaibles and the corresponding standard names"
   ]
  },
  {
   "cell_type": "code",
   "execution_count": 9,
   "metadata": {},
   "outputs": [
    {
     "name": "stdout",
     "output_type": "stream",
     "text": [
      "time: time\n",
      "sea_water_electrical_conductivity: conductivity\n",
      "sea_water_pressure: pressure\n",
      "sea_water_temperature: temp\n",
      "sea_water_practical_salinity: practical_salinity\n",
      "sea_water_density: density\n",
      "latitude: lat\n",
      "longitude: lon\n"
     ]
    }
   ],
   "source": [
    "for var in ds.variables:\n",
    "    try:\n",
    "        print(ds[var].standard_name + ':', var)\n",
    "    except: #hack to only print variables that have a standard name attribute\n",
    "        pass"
   ]
  },
  {
   "cell_type": "markdown",
   "metadata": {},
   "source": [
    "Plot the Temperature timeseries and the QC flags"
   ]
  },
  {
   "cell_type": "code",
   "execution_count": 17,
   "metadata": {},
   "outputs": [
    {
     "data": {
      "image/png": "[encoded data removed]",
      "text/plain": [
       "<Figure size 576x576 with 2 Axes>"
      ]
     },
     "metadata": {},
     "output_type": "display_data"
    }
   ],
   "source": [
    "fig, (ax, ax_qc) = plt.subplots(2,sharex=True,gridspec_kw={'height_ratios':[3, 1]})\n",
    "fig.set_size_inches(8,8)\n",
    "ax.plot(ds['time'], ds['temp'], marker='.', linewidth=0)\n",
    "ax.set_ylabel('Temperature')\n",
    "ax_qc.plot(ds['time'], ds['temp_qc_executed'],marker='.', linewidth=0)\n",
    "ax_qc.plot(ds['time'], ds['temp_qc_results'],marker='.', linewidth=0)\n",
    "ax_qc.legend()\n",
    "\n",
    "fig.autofmt_xdate()\n",
    "fig.tight_layout()\n"
   ]
  },
  {
   "cell_type": "code",
   "execution_count": 24,
   "metadata": {},
   "outputs": [
    {
     "data": {
      "text/plain": [
       "14.41626145002265"
      ]
     },
     "execution_count": 24,
     "metadata": {},
     "output_type": "execute_result"
    }
   ],
   "source": [
    "dateTime = ds['time'].values\n",
    "np.nanmean(np.diff(dateTime) / np.timedelta64(1, 's')) / 60"
   ]
  },
  {
   "cell_type": "code",
   "execution_count": 33,
   "metadata": {},
   "outputs": [
    {
     "ename": "AttributeError",
     "evalue": "module 'xarray' has no attribute 'open'",
     "output_type": "error",
     "traceback": [
      "\u001b[0;31m---------------------------------------------------------------------------\u001b[0m",
      "\u001b[0;31mAttributeError\u001b[0m                            Traceback (most recent call last)",
      "\u001b[0;32m<ipython-input-33-d24779d7e8cf>\u001b[0m in \u001b[0;36m<module>\u001b[0;34m()\u001b[0m\n\u001b[0;32m----> 1\u001b[0;31m \u001b[0mds\u001b[0m \u001b[0;34m=\u001b[0m \u001b[0mxr\u001b[0m\u001b[0;34m.\u001b[0m\u001b[0mopen\u001b[0m\u001b[0;34m\u001b[0m\u001b[0m\n\u001b[0m",
      "\u001b[0;31mAttributeError\u001b[0m: module 'xarray' has no attribute 'open'"
     ]
    }
   ],
   "source": [
    "ds = xr.open"
   ]
  },
  {
   "cell_type": "code",
   "execution_count": null,
   "metadata": {},
   "outputs": [],
   "source": []
  }
 ],
 "metadata": {
  "anaconda-cloud": {},
  "kernelspec": {
   "display_name": "Python [default]",
   "language": "python",
   "name": "python3"
  },
  "language_info": {
   "codemirror_mode": {
    "name": "ipython",
    "version": 3
   },
   "file_extension": ".py",
   "mimetype": "text/x-python",
   "name": "python",
   "nbconvert_exporter": "python",
   "pygments_lexer": "ipython3",
   "version": "3.5.5"
  }
 },
 "nbformat": 4,
 "nbformat_minor": 2
}
