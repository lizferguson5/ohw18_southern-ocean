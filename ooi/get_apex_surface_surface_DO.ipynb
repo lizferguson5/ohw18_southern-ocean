{
 "cells": [
  {
   "cell_type": "code",
   "execution_count": 1,
   "metadata": {},
   "outputs": [],
   "source": [
    "% matplotlib inline\n",
    "import requests, warnings, json, time, os, re\n",
    "import xarray as xr\n",
    "import pandas as pd\n",
    "import numpy as np\n",
    "import datetime as dt\n",
    "from scipy import signal\n",
    "import matplotlib.pyplot as plt\n",
    "warnings.filterwarnings('ignore')"
   ]
  },
  {
   "cell_type": "markdown",
   "metadata": {},
   "source": [
    "### IOOS Southern Ocean Data requests\n",
    "\n",
    "Ask Sheri about the Water pCO2 <br>\n",
    "DO - looks bad (Be weary)!"
   ]
  },
  {
   "cell_type": "markdown",
   "metadata": {},
   "source": [
    "__Creating a credentials file__ <br>\n",
    "This is done so you aren't uploading your private token and username onto a github repo for the whole world to see\n",
    "\n",
    "1. Create a file called credentials.json in this folder.\n",
    "2. Add your token and username info so it looks something like this:\n",
    "\n",
    "```\n",
    "{\n",
    "    \"username\": \"OOIAPI-FAKEAPINAME\",\n",
    "    \"token\": \"BBN3YLYO783\"\n",
    "}\n",
    "\n",
    "```"
   ]
  },
  {
   "cell_type": "code",
   "execution_count": 2,
   "metadata": {},
   "outputs": [],
   "source": [
    "# Load your credentials\n",
    "with open(\"credentials.json\", \"r\") as read_file:\n",
    "    data = json.load(read_file)\n",
    "token = data['token']\n",
    "username = data['username']"
   ]
  },
  {
   "cell_type": "markdown",
   "metadata": {},
   "source": [
    "### Pull Surface Dissolved Oxygen Data from the [Apex Surface Mooring](http://ooi.visualocean.net/instruments/view/GS01SUMO-RID16-03-CTDBPF000)\n",
    "\n",
    "Example M2M url:\n",
    "https://ooinet.oceanobservatories.org/api/m2m/12576/sensor/inv/GS01SUMO/RID16/03-CTDBPF000/metadata"
   ]
  },
  {
   "cell_type": "code",
   "execution_count": 3,
   "metadata": {},
   "outputs": [],
   "source": [
    "# Build API Query\n",
    "\n",
    "DATA_API_BASE_URL = 'https://ooinet.oceanobservatories.org/api/m2m/12576/sensor/inv/'\n",
    "data_request_url = DATA_API_BASE_URL+\\\n",
    "                    'GS01SUMO/'+\\\n",
    "                    'SBD11/'+\\\n",
    "                    '04-DOSTAD000/'+\\\n",
    "                    'telemetered/'+\\\n",
    "                    'dosta_abcdjm_dcl_instrument'+'?'\n",
    "\n",
    "r = requests.get(data_request_url, params=None, auth=(username, token)) # Request data\n",
    "data = r.json() # verify request"
   ]
  },
  {
   "cell_type": "code",
   "execution_count": 4,
   "metadata": {},
   "outputs": [
    {
     "name": "stdout",
     "output_type": "stream",
     "text": [
      "{'requestUUID': 'dd6b6643-ce37-47a1-8e8a-861b42e832a9', 'numberOfSubJobs': 97, 'allURLs': ['https://opendap.oceanobservatories.org/thredds/catalog/ooi/pdaniel@mbari.org/20180823T162903-GS01SUMO-SBD11-04-DOSTAD000-telemetered-dosta_abcdjm_dcl_instrument/catalog.html', 'https://opendap.oceanobservatories.org/async_results/pdaniel@mbari.org/20180823T162903-GS01SUMO-SBD11-04-DOSTAD000-telemetered-dosta_abcdjm_dcl_instrument'], 'outputURL': 'https://opendap.oceanobservatories.org/thredds/catalog/ooi/pdaniel@mbari.org/20180823T162903-GS01SUMO-SBD11-04-DOSTAD000-telemetered-dosta_abcdjm_dcl_instrument/catalog.html', 'timeCalculation': 155, 'sizeCalculation': 736052396}\n"
     ]
    }
   ],
   "source": [
    "# if data says something about a 404 message, double check the API url. Otherwwi\n",
    "print(data)"
   ]
  },
  {
   "cell_type": "markdown",
   "metadata": {},
   "source": [
    "__Waiting for the dataset to be built and sent to your THREDDS__"
   ]
  },
  {
   "cell_type": "code",
   "execution_count": 5,
   "metadata": {},
   "outputs": [
    {
     "name": "stdout",
     "output_type": "stream",
     "text": [
      "request completed\n",
      "CPU times: user 2.97 s, sys: 206 ms, total: 3.18 s\n",
      "Wall time: 3min 4s\n"
     ]
    }
   ],
   "source": [
    "%%time\n",
    "check_complete = data['allURLs'][1] + '/status.txt'\n",
    "for i in range(1800): \n",
    "    r = requests.get(check_complete)\n",
    "    if r.status_code == requests.codes.ok:\n",
    "        print('request completed')\n",
    "        break\n",
    "    else:\n",
    "        time.sleep(1)"
   ]
  },
  {
   "cell_type": "markdown",
   "metadata": {},
   "source": [
    "### Pull the data from Thredds ###"
   ]
  },
  {
   "cell_type": "markdown",
   "metadata": {},
   "source": [
    "This chunk of code scrapes the thredds server associated with your username and finds each of the netCDF files that are associated with each deployment (three files in this case) and puts there URLs into a list"
   ]
  },
  {
   "cell_type": "code",
   "execution_count": 6,
   "metadata": {},
   "outputs": [
    {
     "data": {
      "text/plain": [
       "['https://opendap.oceanobservatories.org/thredds/dodsC/ooi/pdaniel@mbari.org/20180823T162903-GS01SUMO-SBD11-04-DOSTAD000-telemetered-dosta_abcdjm_dcl_instrument/deployment0003_GS01SUMO-SBD11-06-METBKA000-telemetered-metbk_a_dcl_instrument_20161125T011201.966000-20180823T150241.574000.nc',\n",
       " 'https://opendap.oceanobservatories.org/thredds/dodsC/ooi/pdaniel@mbari.org/20180823T162903-GS01SUMO-SBD11-04-DOSTAD000-telemetered-dosta_abcdjm_dcl_instrument/deployment0003_GS01SUMO-SBD11-04-DOSTAD000-telemetered-dosta_abcdjm_dcl_instrument_20161125T011511.156000-20180823T150303.667000.nc',\n",
       " 'https://opendap.oceanobservatories.org/thredds/dodsC/ooi/pdaniel@mbari.org/20180823T162903-GS01SUMO-SBD11-04-DOSTAD000-telemetered-dosta_abcdjm_dcl_instrument/deployment0002_GS01SUMO-SBD11-06-METBKA000-telemetered-metbk_a_dcl_instrument_20151214T202021.824000-20161128T070124.679000.nc',\n",
       " 'https://opendap.oceanobservatories.org/thredds/dodsC/ooi/pdaniel@mbari.org/20180823T162903-GS01SUMO-SBD11-04-DOSTAD000-telemetered-dosta_abcdjm_dcl_instrument/deployment0002_GS01SUMO-SBD11-04-DOSTAD000-telemetered-dosta_abcdjm_dcl_instrument_20151214T203012.971000-20161127T070029.884000.nc',\n",
       " 'https://opendap.oceanobservatories.org/thredds/dodsC/ooi/pdaniel@mbari.org/20180823T162903-GS01SUMO-SBD11-04-DOSTAD000-telemetered-dosta_abcdjm_dcl_instrument/deployment0001_GS01SUMO-SBD11-06-METBKA000-telemetered-metbk_a_dcl_instrument_20150405T203713.050000-20151222T181504.784000.nc',\n",
       " 'https://opendap.oceanobservatories.org/thredds/dodsC/ooi/pdaniel@mbari.org/20180823T162903-GS01SUMO-SBD11-04-DOSTAD000-telemetered-dosta_abcdjm_dcl_instrument/deployment0001_GS01SUMO-SBD11-04-DOSTAD000-telemetered-dosta_abcdjm_dcl_instrument_20150218T211512.761000-20151222T181524.720000.nc']"
      ]
     },
     "execution_count": 6,
     "metadata": {},
     "output_type": "execute_result"
    }
   ],
   "source": [
    "url = data['allURLs'][0]\n",
    "tds_url = 'https://opendap.oceanobservatories.org/thredds/dodsC'\n",
    "datasets = requests.get(url).text\n",
    "urls = re.findall(r'href=[\\'\"]?([^\\'\" >]+)', datasets)\n",
    "x = re.findall(r'(ooi/.*?.nc)', datasets)\n",
    "for i in x:\n",
    "    if i.endswith('.nc') == False:\n",
    "        x.remove(i)\n",
    "for i in x:\n",
    "    try:\n",
    "        float(i[-4])\n",
    "    except:\n",
    "        x.remove(i)\n",
    "datasets = [os.path.join(tds_url, i) for i in x]\n",
    "datasets"
   ]
  },
  {
   "cell_type": "code",
   "execution_count": 8,
   "metadata": {},
   "outputs": [],
   "source": [
    "do_data_files = ['https://opendap.oceanobservatories.org/thredds/dodsC/ooi/pdaniel@mbari.org/20180822T221141-GS01SUMO-SBD11-04-DOSTAD000-telemetered-dosta_abcdjm_dcl_instrument/deployment0003_GS01SUMO-SBD11-06-METBKA000-telemetered-metbk_a_dcl_instrument_20161125T011201.966000-20180822T180218.225000.nc',\n",
    " 'https://opendap.oceanobservatories.org/thredds/dodsC/ooi/pdaniel@mbari.org/20180822T221141-GS01SUMO-SBD11-04-DOSTAD000-telemetered-dosta_abcdjm_dcl_instrument/deployment0003_GS01SUMO-SBD11-04-DOSTAD000-telemetered-dosta_abcdjm_dcl_instrument_20161125T011511.156000-20180822T180303.103000.nc',\n",
    " 'https://opendap.oceanobservatories.org/thredds/dodsC/ooi/pdaniel@mbari.org/20180822T221141-GS01SUMO-SBD11-04-DOSTAD000-telemetered-dosta_abcdjm_dcl_instrument/deployment0002_GS01SUMO-SBD11-06-METBKA000-telemetered-metbk_a_dcl_instrument_20151214T202021.824000-20161128T070124.679000.nc',\n",
    " 'https://opendap.oceanobservatories.org/thredds/dodsC/ooi/pdaniel@mbari.org/20180822T221141-GS01SUMO-SBD11-04-DOSTAD000-telemetered-dosta_abcdjm_dcl_instrument/deployment0002_GS01SUMO-SBD11-04-DOSTAD000-telemetered-dosta_abcdjm_dcl_instrument_20151214T203012.971000-20161127T070029.884000.nc',\n",
    " 'https://opendap.oceanobservatories.org/thredds/dodsC/ooi/pdaniel@mbari.org/20180822T221141-GS01SUMO-SBD11-04-DOSTAD000-telemetered-dosta_abcdjm_dcl_instrument/deployment0001_GS01SUMO-SBD11-06-METBKA000-telemetered-metbk_a_dcl_instrument_20150405T203713.050000-20151222T181504.784000.nc',\n",
    " 'https://opendap.oceanobservatories.org/thredds/dodsC/ooi/pdaniel@mbari.org/20180822T221141-GS01SUMO-SBD11-04-DOSTAD000-telemetered-dosta_abcdjm_dcl_instrument/deployment0001_GS01SUMO-SBD11-04-DOSTAD000-telemetered-dosta_abcdjm_dcl_instrument_20150218T211512.761000-20151222T181524.720000.nc']\n",
    "datasets = [d for d in do_data_files if d.find('METBKA000') == -1]"
   ]
  },
  {
   "cell_type": "markdown",
   "metadata": {},
   "source": [
    "Remove the met data that is also pulled with a request for dissolved oxygen.\n",
    "\n",
    "This is done by looping through the file names and searching for each string for \"METBKA000\". If the find method can't find \"METBKA000\", then it will return -1"
   ]
  },
  {
   "cell_type": "code",
   "execution_count": 9,
   "metadata": {},
   "outputs": [],
   "source": [
    "datasets = [d for d in datasets if d.find('METBKA000') == -1]"
   ]
  },
  {
   "cell_type": "markdown",
   "metadata": {},
   "source": [
    "Xarray is amazing and can open multiple netCDF files if they have the same Coordinates, (which each instrument deployment should have!). \n",
    "\n",
    "These data a thrown into a xarray Dataset (this is sort of the fundamental unit of xarray and is basically a 3-D array (or more) that keeps some track of some of the metadata)"
   ]
  },
  {
   "cell_type": "code",
   "execution_count": 10,
   "metadata": {},
   "outputs": [],
   "source": [
    "ds = xr.open_mfdataset(datasets)\n",
    "ds = ds.swap_dims({'obs': 'time'})\n",
    "ds = ds.sortby('time') # data from different deployments can overlap so we want to sort all data by time stamp."
   ]
  },
  {
   "cell_type": "markdown",
   "metadata": {},
   "source": [
    "Lets print the data varaibles and the corresponding standard names"
   ]
  },
  {
   "cell_type": "code",
   "execution_count": 11,
   "metadata": {},
   "outputs": [
    {
     "name": "stdout",
     "output_type": "stream",
     "text": [
      "time: time\n",
      "moles_of_oxygen_per_unit_mass_in_sea_water: dissolved_oxygen\n",
      "latitude: lat\n",
      "longitude: lon\n"
     ]
    }
   ],
   "source": [
    "for var in ds.variables:\n",
    "    try:\n",
    "        print(ds[var].standard_name + ':', var)\n",
    "    except: #hack to only print variables that have a standard name attribute\n",
    "        pass"
   ]
  },
  {
   "cell_type": "markdown",
   "metadata": {},
   "source": [
    "Convert oxygen timeseries into a pandas dataframe for similar manipulation"
   ]
  },
  {
   "cell_type": "code",
   "execution_count": 12,
   "metadata": {},
   "outputs": [
    {
     "name": "stdout",
     "output_type": "stream",
     "text": [
      "CPU times: user 3.88 s, sys: 3.03 s, total: 6.91 s\n",
      "Wall time: 57.2 s\n"
     ]
    }
   ],
   "source": [
    "%%time\n",
    "data = np.array((ds['time'].values,ds['dissolved_oxygen'].values))\n",
    "df = pd.DataFrame({'dateTime':ds['time'].values, 'dissolved_oxygen':ds['dissolved_oxygen'].values})\n",
    "df.index = df['dateTime']"
   ]
  },
  {
   "cell_type": "markdown",
   "metadata": {},
   "source": [
    "Subsample the DO timeseries into hourly data by taking the mean of each hour, then only use data after Jan of 2017"
   ]
  },
  {
   "cell_type": "code",
   "execution_count": 13,
   "metadata": {},
   "outputs": [],
   "source": [
    "hourly = df.resample(rule='1H').mean()\n",
    "hourly['dateTime'] = hourly.index\n",
    "subset = hourly[hourly['dateTime'] > dt.datetime(2017,1,1)]"
   ]
  },
  {
   "cell_type": "markdown",
   "metadata": {},
   "source": [
    "Filter the tidal signal with an 40hr Lancoz filter"
   ]
  },
  {
   "cell_type": "code",
   "execution_count": 15,
   "metadata": {},
   "outputs": [],
   "source": [
    "hourly.to_pickle('./data_dump/surface_do')"
   ]
  },
  {
   "cell_type": "code",
   "execution_count": 32,
   "metadata": {},
   "outputs": [],
   "source": [
    "freq = 1./40  # This is the half-amplitude period suggested by the CODE-2 Tech. Report\n",
    "n_weights = 120\n",
    "nyquist = 1/2\n",
    "filt = signal.firwin(n_weights, freq, window='hanning', nyq=nyquist) #FIR\n",
    "subset['do_filt'] = np.convolve(subset['dissolved_oxygen'],filt,'same')"
   ]
  },
  {
   "cell_type": "code",
   "execution_count": 34,
   "metadata": {},
   "outputs": [
    {
     "data": {
      "image/png": "[encoded data removed]",
      "text/plain": [
       "<Figure size 720x576 with 1 Axes>"
      ]
     },
     "metadata": {},
     "output_type": "display_data"
    }
   ],
   "source": [
    "fig, ax = plt.subplots()\n",
    "fig.set_size_inches(10,8)\n",
    "ax.plot(subset['dissolved_oxygen'])\n",
    "ax.plot(subset['do_filt'])\n",
    "ax.set_ylim(200,375)\n",
    "\n",
    "fig.autofmt_xdate()"
   ]
  },
  {
   "cell_type": "markdown",
   "metadata": {},
   "source": [
    "Plot the Temperature timeseries and the QC flags"
   ]
  },
  {
   "cell_type": "code",
   "execution_count": null,
   "metadata": {
    "scrolled": false
   },
   "outputs": [],
   "source": [
    "fig, (ax, ax_qc) = plt.subplots(2,sharex=True,gridspec_kw={'height_ratios':[3, 1]})\n",
    "fig.set_size_inches(8,8)\n",
    "ax.plot(ds['time'], ds['dissolved_oxygen'], marker='.', linewidth=0)\n",
    "ax.set_ylabel('uMol/kg')\n",
    "ax_qc.plot(ds['time'], ds['dissolved_oxygen_qc_executed'],marker='.', linewidth=0)\n",
    "ax_qc.plot(ds['time'], ds['dissolved_oxygen_qc_results'],marker='.', linewidth=0)\n",
    "ax_qc.legend()\n",
    "\n",
    "fig.autofmt_xdate()\n",
    "fig.tight_layout()\n",
    "\n",
    "ax.set_xlim(dt.datetime(2017,1,1),dt.datetime(2018,8,28))\n",
    "\n",
    "DO_hourly =  ds['dissolved_oxygen'].resample(time=\"1H\").mean()"
   ]
  },
  {
   "cell_type": "code",
   "execution_count": null,
   "metadata": {},
   "outputs": [],
   "source": [
    "dateTime = ds['time'].values\n",
    "np.nanmean(np.diff(dateTime) / np.timedelta64(1, 's'))"
   ]
  },
  {
   "cell_type": "code",
   "execution_count": null,
   "metadata": {},
   "outputs": [],
   "source": [
    "subsset_datetime = ds['time'].sel(time=slice('2017-01-01','2017-02-01'))"
   ]
  },
  {
   "cell_type": "code",
   "execution_count": null,
   "metadata": {},
   "outputs": [],
   "source": [
    "dateTime = subsset_datetime['time'].values\n",
    "np.nanmean(np.diff(dateTime) / np.timedelta64(1, 's'))"
   ]
  },
  {
   "cell_type": "code",
   "execution_count": null,
   "metadata": {},
   "outputs": [],
   "source": [
    "df"
   ]
  },
  {
   "cell_type": "code",
   "execution_count": null,
   "metadata": {},
   "outputs": [],
   "source": [
    "ds_subset = ds.sel(time=slice('2017-01-01','2017-02-01'))"
   ]
  },
  {
   "cell_type": "code",
   "execution_count": null,
   "metadata": {},
   "outputs": [],
   "source": [
    "data = np.array((ds_subset['time'].values,ds_subset['dissolved_oxygen'].values))\n",
    "df_do = pd.DataFrame({'dateTime':ds_subset['time'].values, 'dissolved_oxygen':ds_subset['dissolved_oxygen'].values})\n",
    "df_do.index = df_do['dateTime']\n",
    "\n",
    "freq = 1./(40*60*60*30)  # This is the half-amplitude period suggested by the CODE-2 Tech. Report\n",
    "n_weights = 120*60*60*30\n",
    "nyquist = 1/2*60*60.*30\n",
    "filt = signal.firwin(n_weights, freq, window='hanning', nyq=nyquist) #FIR\n",
    "df_df['do_filt'] = np.convolve(df_do['dissolved_oxygen'],filt,'same')"
   ]
  },
  {
   "cell_type": "code",
   "execution_count": null,
   "metadata": {},
   "outputs": [],
   "source": [
    "fig, ax = plt.subplots(1)\n",
    "fig.set_size_inches(8,8)\n",
    "ax.plot(df['dissolved_oxygen'])\n",
    "ax.plot(df['do_filt'])\n",
    "ax.set_ylabel('uMol/kg')\n",
    "fig.autofmt_xdate()\n",
    "fig.tight_layout()\n",
    "# ax.set_xlim(dt.datetime(2017,1,1),dt.datetime(2018,8,28))"
   ]
  },
  {
   "cell_type": "code",
   "execution_count": null,
   "metadata": {},
   "outputs": [],
   "source": [
    "ds_subset['dissolved_oxygen'].values"
   ]
  },
  {
   "cell_type": "code",
   "execution_count": null,
   "metadata": {},
   "outputs": [],
   "source": [
    "DO_hourly.isel(time=).values"
   ]
  },
  {
   "cell_type": "code",
   "execution_count": null,
   "metadata": {},
   "outputs": [],
   "source": [
    "DO_hourly"
   ]
  }
 ],
 "metadata": {
  "anaconda-cloud": {},
  "kernelspec": {
   "display_name": "Python [default]",
   "language": "python",
   "name": "python3"
  },
  "language_info": {
   "codemirror_mode": {
    "name": "ipython",
    "version": 3
   },
   "file_extension": ".py",
   "mimetype": "text/x-python",
   "name": "python",
   "nbconvert_exporter": "python",
   "pygments_lexer": "ipython3",
   "version": "3.5.5"
  }
 },
 "nbformat": 4,
 "nbformat_minor": 2
}
