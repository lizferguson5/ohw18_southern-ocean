{
 "cells": [
  {
   "cell_type": "code",
   "execution_count": 35,
   "metadata": {},
   "outputs": [],
   "source": [
    "% matplotlib inline\n",
    "import requests, warnings, json, time, os, re\n",
    "import xarray as xr\n",
    "import pandas as pd\n",
    "import numpy as np\n",
    "import datetime as dt\n",
    "import matplotlib.pyplot as plt\n",
    "warnings.filterwarnings('ignore')"
   ]
  },
  {
   "cell_type": "markdown",
   "metadata": {},
   "source": [
    "### IOOS Southern Ocean Data requests\n",
    "\n",
    "Ask Sheri about the Water pCO2 <br>\n",
    "DO - looks bad (Be weary)!"
   ]
  },
  {
   "cell_type": "markdown",
   "metadata": {},
   "source": [
    "__Creating a credentials file__ <br>\n",
    "This is done so you aren't uploading your private token and username onto a github repo for the whole world to see\n",
    "\n",
    "1. Create a file called credentials.json in this folder.\n",
    "2. Add your token and username info so it looks something like this:\n",
    "\n",
    "```\n",
    "{\n",
    "    \"username\": \"OOIAPI-FAKEAPINAME\",\n",
    "    \"token\": \"BBN3YLYO783\"\n",
    "}\n",
    "\n",
    "```"
   ]
  },
  {
   "cell_type": "code",
   "execution_count": 3,
   "metadata": {},
   "outputs": [],
   "source": [
    "# Load your credentials\n",
    "with open(\"credentials.json\", \"r\") as read_file:\n",
    "    data = json.load(read_file)\n",
    "token = data['token']\n",
    "username = data['username']"
   ]
  },
  {
   "cell_type": "markdown",
   "metadata": {},
   "source": [
    "### Pull Surface Dissolved Oxygen Data from the [Apex Surface Mooring](http://ooi.visualocean.net/instruments/view/GS01SUMO-RID16-03-CTDBPF000)\n",
    "\n",
    "Example M2M url:\n",
    "https://ooinet.oceanobservatories.org/api/m2m/12576/sensor/inv/GS01SUMO/RID16/03-CTDBPF000/metadata"
   ]
  },
  {
   "cell_type": "code",
   "execution_count": 4,
   "metadata": {},
   "outputs": [],
   "source": [
    "# Build API Query\n",
    "\n",
    "DATA_API_BASE_URL = 'https://ooinet.oceanobservatories.org/api/m2m/12576/sensor/inv/'\n",
    "data_request_url = DATA_API_BASE_URL+\\\n",
    "                    'GS01SUMO/'+\\\n",
    "                    'SBD11/'+\\\n",
    "                    '04-DOSTAD000/'+\\\n",
    "                    'telemetered/'+\\\n",
    "                    'dosta_abcdjm_dcl_instrument'+'?'\n",
    "\n",
    "r = requests.get(data_request_url, params=None, auth=(username, token)) # Request data\n",
    "data = r.json() # verify request"
   ]
  },
  {
   "cell_type": "code",
   "execution_count": 5,
   "metadata": {},
   "outputs": [
    {
     "name": "stdout",
     "output_type": "stream",
     "text": [
      "{'requestUUID': 'c71185e1-0716-4fec-be9a-1e85bc67b9ee', 'numberOfSubJobs': 97, 'sizeCalculation': 735492264, 'allURLs': ['https://opendap.oceanobservatories.org/thredds/catalog/ooi/pdaniel@mbari.org/20180822T221141-GS01SUMO-SBD11-04-DOSTAD000-telemetered-dosta_abcdjm_dcl_instrument/catalog.html', 'https://opendap.oceanobservatories.org/async_results/pdaniel@mbari.org/20180822T221141-GS01SUMO-SBD11-04-DOSTAD000-telemetered-dosta_abcdjm_dcl_instrument'], 'timeCalculation': 154, 'outputURL': 'https://opendap.oceanobservatories.org/thredds/catalog/ooi/pdaniel@mbari.org/20180822T221141-GS01SUMO-SBD11-04-DOSTAD000-telemetered-dosta_abcdjm_dcl_instrument/catalog.html'}\n"
     ]
    }
   ],
   "source": [
    "# if data says something about a 404 message, double check the API url. Otherwwi\n",
    "print(data)"
   ]
  },
  {
   "cell_type": "markdown",
   "metadata": {},
   "source": [
    "__Waiting for the dataset to be built and sent to your THREDDS__"
   ]
  },
  {
   "cell_type": "code",
   "execution_count": 6,
   "metadata": {},
   "outputs": [
    {
     "name": "stdout",
     "output_type": "stream",
     "text": [
      "request completed\n",
      "CPU times: user 2.88 s, sys: 190 ms, total: 3.07 s\n",
      "Wall time: 3min 2s\n"
     ]
    }
   ],
   "source": [
    "%%time\n",
    "check_complete = data['allURLs'][1] + '/status.txt'\n",
    "for i in range(1800): \n",
    "    r = requests.get(check_complete)\n",
    "    if r.status_code == requests.codes.ok:\n",
    "        print('request completed')\n",
    "        break\n",
    "    else:\n",
    "        time.sleep(1)"
   ]
  },
  {
   "cell_type": "markdown",
   "metadata": {},
   "source": [
    "### Pull the data from Thredds ###"
   ]
  },
  {
   "cell_type": "markdown",
   "metadata": {},
   "source": [
    "This chunk of code scrapes the thredds server associated with your username and finds each of the netCDF files that are associated with each deployment (three files in this case) and puts there URLs into a list"
   ]
  },
  {
   "cell_type": "code",
   "execution_count": 7,
   "metadata": {},
   "outputs": [
    {
     "data": {
      "text/plain": [
       "['https://opendap.oceanobservatories.org/thredds/dodsC/ooi/pdaniel@mbari.org/20180822T221141-GS01SUMO-SBD11-04-DOSTAD000-telemetered-dosta_abcdjm_dcl_instrument/deployment0003_GS01SUMO-SBD11-06-METBKA000-telemetered-metbk_a_dcl_instrument_20161125T011201.966000-20180822T180218.225000.nc',\n",
       " 'https://opendap.oceanobservatories.org/thredds/dodsC/ooi/pdaniel@mbari.org/20180822T221141-GS01SUMO-SBD11-04-DOSTAD000-telemetered-dosta_abcdjm_dcl_instrument/deployment0003_GS01SUMO-SBD11-04-DOSTAD000-telemetered-dosta_abcdjm_dcl_instrument_20161125T011511.156000-20180822T180303.103000.nc',\n",
       " 'https://opendap.oceanobservatories.org/thredds/dodsC/ooi/pdaniel@mbari.org/20180822T221141-GS01SUMO-SBD11-04-DOSTAD000-telemetered-dosta_abcdjm_dcl_instrument/deployment0002_GS01SUMO-SBD11-06-METBKA000-telemetered-metbk_a_dcl_instrument_20151214T202021.824000-20161128T070124.679000.nc',\n",
       " 'https://opendap.oceanobservatories.org/thredds/dodsC/ooi/pdaniel@mbari.org/20180822T221141-GS01SUMO-SBD11-04-DOSTAD000-telemetered-dosta_abcdjm_dcl_instrument/deployment0002_GS01SUMO-SBD11-04-DOSTAD000-telemetered-dosta_abcdjm_dcl_instrument_20151214T203012.971000-20161127T070029.884000.nc',\n",
       " 'https://opendap.oceanobservatories.org/thredds/dodsC/ooi/pdaniel@mbari.org/20180822T221141-GS01SUMO-SBD11-04-DOSTAD000-telemetered-dosta_abcdjm_dcl_instrument/deployment0001_GS01SUMO-SBD11-06-METBKA000-telemetered-metbk_a_dcl_instrument_20150405T203713.050000-20151222T181504.784000.nc',\n",
       " 'https://opendap.oceanobservatories.org/thredds/dodsC/ooi/pdaniel@mbari.org/20180822T221141-GS01SUMO-SBD11-04-DOSTAD000-telemetered-dosta_abcdjm_dcl_instrument/deployment0001_GS01SUMO-SBD11-04-DOSTAD000-telemetered-dosta_abcdjm_dcl_instrument_20150218T211512.761000-20151222T181524.720000.nc']"
      ]
     },
     "execution_count": 7,
     "metadata": {},
     "output_type": "execute_result"
    }
   ],
   "source": [
    "url = data['allURLs'][0]\n",
    "tds_url = 'https://opendap.oceanobservatories.org/thredds/dodsC'\n",
    "datasets = requests.get(url).text\n",
    "urls = re.findall(r'href=[\\'\"]?([^\\'\" >]+)', datasets)\n",
    "x = re.findall(r'(ooi/.*?.nc)', datasets)\n",
    "for i in x:\n",
    "    if i.endswith('.nc') == False:\n",
    "        x.remove(i)\n",
    "for i in x:\n",
    "    try:\n",
    "        float(i[-4])\n",
    "    except:\n",
    "        x.remove(i)\n",
    "datasets = [os.path.join(tds_url, i) for i in x]\n",
    "datasets"
   ]
  },
  {
   "cell_type": "markdown",
   "metadata": {},
   "source": [
    "Remove the met data that is also pulled with a request for dissolved oxygen.\n",
    "\n",
    "This is done by looping through the file names and searching for each string for \"METBKA000\". If the find method can't find \"METBKA000\", then it will return -1"
   ]
  },
  {
   "cell_type": "code",
   "execution_count": 25,
   "metadata": {},
   "outputs": [],
   "source": [
    "datasets = [d for d in datasets if d.find('METBKA000') == -1]\n"
   ]
  },
  {
   "cell_type": "markdown",
   "metadata": {},
   "source": [
    "Xarray is amazing and can open multiple netCDF files if they have the same Coordinates, (which each instrument deployment should have!). \n",
    "\n",
    "These data a thrown into a xarray Dataset (this is sort of the fundamental unit of xarray and is basically a 3-D array (or more) that keeps some track of some of the metadata)"
   ]
  },
  {
   "cell_type": "code",
   "execution_count": 26,
   "metadata": {},
   "outputs": [],
   "source": [
    "ds = xr.open_mfdataset(datasets)\n",
    "ds = ds.swap_dims({'obs': 'time'})\n",
    "ds = ds.sortby('time') # data from different deployments can overlap so we want to sort all data by time stamp."
   ]
  },
  {
   "cell_type": "markdown",
   "metadata": {},
   "source": [
    "Lets print the data varaibles and the corresponding standard names"
   ]
  },
  {
   "cell_type": "code",
   "execution_count": 27,
   "metadata": {},
   "outputs": [
    {
     "name": "stdout",
     "output_type": "stream",
     "text": [
      "time: time\n",
      "moles_of_oxygen_per_unit_mass_in_sea_water: dissolved_oxygen\n",
      "latitude: lat\n",
      "longitude: lon\n"
     ]
    }
   ],
   "source": [
    "for var in ds.variables:\n",
    "    try:\n",
    "        print(ds[var].standard_name + ':', var)\n",
    "    except: #hack to only print variables that have a standard name attribute\n",
    "        pass"
   ]
  },
  {
   "cell_type": "code",
   "execution_count": 28,
   "metadata": {},
   "outputs": [
    {
     "data": {
      "text/plain": [
       "<xarray.Dataset>\n",
       "Dimensions:                                     (time: 9052780)\n",
       "Coordinates:\n",
       "    obs                                         (time) int64 0 1 2 3 4 5 6 7 ...\n",
       "  * time                                        (time) datetime64[ns] 2015-02-18T21:15:12.760999424 ...\n",
       "    lat                                         (time) float64 dask.array<shape=(9052780,), chunksize=(9052780,)>\n",
       "    lon                                         (time) float64 dask.array<shape=(9052780,), chunksize=(9052780,)>\n",
       "Data variables:\n",
       "    deployment                                  (time) int32 dask.array<shape=(9052780,), chunksize=(9052780,)>\n",
       "    id                                          (time) |S64 dask.array<shape=(9052780,), chunksize=(9052780,)>\n",
       "    blue_amplitude                              (time) float64 dask.array<shape=(9052780,), chunksize=(9052780,)>\n",
       "    blue_phase                                  (time) float64 dask.array<shape=(9052780,), chunksize=(9052780,)>\n",
       "    calibrated_phase                            (time) float64 dask.array<shape=(9052780,), chunksize=(9052780,)>\n",
       "    dcl_controller_timestamp                    (time) object dask.array<shape=(9052780,), chunksize=(9052780,)>\n",
       "    driver_timestamp                            (time) datetime64[ns] dask.array<shape=(9052780,), chunksize=(9052780,)>\n",
       "    estimated_oxygen_concentration              (time) float64 dask.array<shape=(9052780,), chunksize=(9052780,)>\n",
       "    estimated_oxygen_saturation                 (time) float64 dask.array<shape=(9052780,), chunksize=(9052780,)>\n",
       "    ingestion_timestamp                         (time) datetime64[ns] dask.array<shape=(9052780,), chunksize=(9052780,)>\n",
       "    internal_timestamp                          (time) datetime64[ns] dask.array<shape=(9052780,), chunksize=(9052780,)>\n",
       "    optode_temperature                          (time) float64 dask.array<shape=(9052780,), chunksize=(9052780,)>\n",
       "    port_timestamp                              (time) datetime64[ns] dask.array<shape=(9052780,), chunksize=(9052780,)>\n",
       "    preferred_timestamp                         (time) object dask.array<shape=(9052780,), chunksize=(9052780,)>\n",
       "    product_number                              (time) float64 dask.array<shape=(9052780,), chunksize=(9052780,)>\n",
       "    provenance                                  (time) |S64 dask.array<shape=(9052780,), chunksize=(9052780,)>\n",
       "    raw_temperature                             (time) float64 dask.array<shape=(9052780,), chunksize=(9052780,)>\n",
       "    red_amplitude                               (time) float64 dask.array<shape=(9052780,), chunksize=(9052780,)>\n",
       "    red_phase                                   (time) float64 dask.array<shape=(9052780,), chunksize=(9052780,)>\n",
       "    serial_number                               (time) object dask.array<shape=(9052780,), chunksize=(9052780,)>\n",
       "    temp_compensated_phase                      (time) float64 dask.array<shape=(9052780,), chunksize=(9052780,)>\n",
       "    dosta_abcdjm_cspp_tc_oxygen                 (time) float64 dask.array<shape=(9052780,), chunksize=(9052780,)>\n",
       "    met_salsurf                                 (time) float64 dask.array<shape=(9052780,), chunksize=(9052780,)>\n",
       "    ct_depth                                    (time) float64 dask.array<shape=(9052780,), chunksize=(9052780,)>\n",
       "    sea_surface_temperature                     (time) float64 dask.array<shape=(9052780,), chunksize=(9052780,)>\n",
       "    dissolved_oxygen                            (time) float64 dask.array<shape=(9052780,), chunksize=(9052780,)>\n",
       "    estimated_oxygen_concentration_qc_executed  (time) float64 dask.array<shape=(9052780,), chunksize=(9052780,)>\n",
       "    estimated_oxygen_concentration_qc_results   (time) float64 dask.array<shape=(9052780,), chunksize=(9052780,)>\n",
       "    estimated_oxygen_saturation_qc_executed     (time) float64 dask.array<shape=(9052780,), chunksize=(9052780,)>\n",
       "    estimated_oxygen_saturation_qc_results      (time) float64 dask.array<shape=(9052780,), chunksize=(9052780,)>\n",
       "    optode_temperature_qc_executed              (time) float64 dask.array<shape=(9052780,), chunksize=(9052780,)>\n",
       "    optode_temperature_qc_results               (time) float64 dask.array<shape=(9052780,), chunksize=(9052780,)>\n",
       "    dosta_abcdjm_cspp_tc_oxygen_qc_executed     (time) float64 dask.array<shape=(9052780,), chunksize=(9052780,)>\n",
       "    dosta_abcdjm_cspp_tc_oxygen_qc_results      (time) float64 dask.array<shape=(9052780,), chunksize=(9052780,)>\n",
       "    dissolved_oxygen_qc_executed                (time) float64 dask.array<shape=(9052780,), chunksize=(9052780,)>\n",
       "    dissolved_oxygen_qc_results                 (time) float64 dask.array<shape=(9052780,), chunksize=(9052780,)>\n",
       "Attributes:\n",
       "    _NCProperties:                      version=1|netcdflibversion=4.4.1.1|hd...\n",
       "    node:                               SBD11\n",
       "    comment:                            \n",
       "    publisher_email:                    \n",
       "    sourceUrl:                          http://oceanobservatories.org/\n",
       "    collection_method:                  telemetered\n",
       "    stream:                             dosta_abcdjm_dcl_instrument\n",
       "    featureType:                        point\n",
       "    creator_email:                      \n",
       "    publisher_name:                     Ocean Observatories Initiative\n",
       "    date_modified:                      2018-08-22T22:12:47.703217\n",
       "    keywords:                           \n",
       "    cdm_data_type:                      Point\n",
       "    references:                         More information can be found at http...\n",
       "    Metadata_Conventions:               Unidata Dataset Discovery v1.0\n",
       "    date_created:                       2018-08-22T22:12:47.703211\n",
       "    id:                                 GS01SUMO-SBD11-04-DOSTAD000-telemeter...\n",
       "    requestUUID:                        ecc07707-de4f-4de0-8ff1-56d9531c122b\n",
       "    contributor_role:                   \n",
       "    summary:                            Dataset Generated by Stream Engine fr...\n",
       "    keywords_vocabulary:                \n",
       "    institution:                        Ocean Observatories Initiative\n",
       "    naming_authority:                   org.oceanobservatories\n",
       "    feature_Type:                       point\n",
       "    infoUrl:                            http://oceanobservatories.org/\n",
       "    license:                            \n",
       "    contributor_name:                   \n",
       "    uuid:                               ecc07707-de4f-4de0-8ff1-56d9531c122b\n",
       "    creator_name:                       Ocean Observatories Initiative\n",
       "    title:                              Data produced by Stream Engine versio...\n",
       "    sensor:                             04-DOSTAD000\n",
       "    standard_name_vocabulary:           NetCDF Climate and Forecast (CF) Meta...\n",
       "    acknowledgement:                    \n",
       "    Conventions:                        CF-1.6\n",
       "    project:                            Ocean Observatories Initiative\n",
       "    source:                             GS01SUMO-SBD11-04-DOSTAD000-telemeter...\n",
       "    publisher_url:                      http://oceanobservatories.org/\n",
       "    creator_url:                        http://oceanobservatories.org/\n",
       "    nodc_template_version:              NODC_NetCDF_TimeSeries_Orthogonal_Tem...\n",
       "    subsite:                            GS01SUMO\n",
       "    processing_level:                   L2\n",
       "    history:                            2018-08-22T22:12:47.703139 generated ...\n",
       "    Manufacturer:                       Aanderaa\n",
       "    ModelNumber:                        Optode 4831\n",
       "    SerialNumber:                       410\n",
       "    Description:                        Dissolved Oxygen Stable Response: DOS...\n",
       "    FirmwareVersion:                    Not specified.\n",
       "    SoftwareVersion:                    Not specified.\n",
       "    AssetUniqueID:                      CGINS-DOSTAD-00410\n",
       "    Notes:                              Not specified.\n",
       "    Owner:                              Not specified.\n",
       "    RemoteResources:                    []\n",
       "    ShelfLifeExpirationDate:            Not specified.\n",
       "    Mobile:                             False\n",
       "    AssetManagementRecordLastModified:  2018-08-16T12:31:46.484000\n",
       "    time_coverage_start:                2016-11-25T01:15:11.156000\n",
       "    time_coverage_end:                  2018-08-22T18:03:03.103000\n",
       "    time_coverage_resolution:           P10.64S\n",
       "    geospatial_lat_min:                 -54.4076\n",
       "    geospatial_lat_max:                 -54.4076\n",
       "    geospatial_lat_units:               degrees_north\n",
       "    geospatial_lat_resolution:          0.1\n",
       "    geospatial_lon_min:                 -89.35673333\n",
       "    geospatial_lon_max:                 -89.35673333\n",
       "    geospatial_lon_units:               degrees_east\n",
       "    geospatial_lon_resolution:          0.1\n",
       "    geospatial_vertical_units:          meters\n",
       "    geospatial_vertical_resolution:     0.1\n",
       "    geospatial_vertical_positive:       down\n",
       "    DODS.strlen:                        3\n",
       "    DODS.dimName:                       string3\n",
       "    DODS_EXTRA.Unlimited_Dimension:     obs"
      ]
     },
     "execution_count": 28,
     "metadata": {},
     "output_type": "execute_result"
    }
   ],
   "source": [
    "ds"
   ]
  },
  {
   "cell_type": "markdown",
   "metadata": {},
   "source": [
    "Plot the Temperature timeseries and the QC flags"
   ]
  },
  {
   "cell_type": "code",
   "execution_count": 32,
   "metadata": {
    "scrolled": false
   },
   "outputs": [
    {
     "data": {
      "text/plain": [
       "(736330.0, 736934.0)"
      ]
     },
     "execution_count": 32,
     "metadata": {},
     "output_type": "execute_result"
    },
    {
     "data": {
      "image/png": "[encoded data removed]",
      "text/plain": [
       "<Figure size 576x576 with 2 Axes>"
      ]
     },
     "metadata": {},
     "output_type": "display_data"
    }
   ],
   "source": [
    "fig, (ax, ax_qc) = plt.subplots(2,sharex=True,gridspec_kw={'height_ratios':[3, 1]})\n",
    "fig.set_size_inches(8,8)\n",
    "ax.plot(ds['time'], ds['dissolved_oxygen'], marker='.', linewidth=0)\n",
    "ax.set_ylabel('uMol/kg')\n",
    "ax_qc.plot(ds['time'], ds['dissolved_oxygen_qc_executed'],marker='.', linewidth=0)\n",
    "ax_qc.plot(ds['time'], ds['dissolved_oxygen_qc_results'],marker='.', linewidth=0)\n",
    "ax_qc.legend()\n",
    "\n",
    "fig.autofmt_xdate()\n",
    "fig.tight_layout()\n",
    "\n",
    "ax.set_xlim(dt.datetime(2017,1,1),dt.datetime(2018,8,28))"
   ]
  },
  {
   "cell_type": "code",
   "execution_count": 37,
   "metadata": {},
   "outputs": [
    {
     "data": {
      "text/plain": [
       "12.224629623897805"
      ]
     },
     "execution_count": 37,
     "metadata": {},
     "output_type": "execute_result"
    }
   ],
   "source": [
    "dateTime = ds['time'].values\n",
    "np.nanmean(np.diff(dateTime) / np.timedelta64(1, 's'))"
   ]
  },
  {
   "cell_type": "code",
   "execution_count": 44,
   "metadata": {},
   "outputs": [],
   "source": [
    "subsset_datetime = ds['time'].sel(time=slice('2017-01-01','2018-08-01'))"
   ]
  },
  {
   "cell_type": "code",
   "execution_count": 47,
   "metadata": {},
   "outputs": [
    {
     "data": {
      "text/plain": [
       "10.582084210256406"
      ]
     },
     "execution_count": 47,
     "metadata": {},
     "output_type": "execute_result"
    }
   ],
   "source": [
    "dateTime = subsset_datetime['time'].values\n",
    "np.nanmean(np.diff(dateTime) / np.timedelta64(1, 's'))"
   ]
  },
  {
   "cell_type": "code",
   "execution_count": 49,
   "metadata": {},
   "outputs": [
    {
     "ename": "ValueError",
     "evalue": "Resampling only supported along single dimensions.",
     "output_type": "error",
     "traceback": [
      "\u001b[0;31m---------------------------------------------------------------------------\u001b[0m",
      "\u001b[0;31mValueError\u001b[0m                                Traceback (most recent call last)",
      "\u001b[0;32m<ipython-input-49-dc32d62ddfe8>\u001b[0m in \u001b[0;36m<module>\u001b[0;34m()\u001b[0m\n\u001b[0;32m----> 1\u001b[0;31m \u001b[0mds\u001b[0m\u001b[0;34m[\u001b[0m\u001b[0;34m'dissolved_oxygen'\u001b[0m\u001b[0;34m]\u001b[0m\u001b[0;34m.\u001b[0m\u001b[0mresample\u001b[0m\u001b[0;34m(\u001b[0m\u001b[0;34m'1H'\u001b[0m\u001b[0;34m,\u001b[0m\u001b[0mhow\u001b[0m\u001b[0;34m=\u001b[0m\u001b[0mnp\u001b[0m\u001b[0;34m.\u001b[0m\u001b[0mmean\u001b[0m\u001b[0;34m)\u001b[0m\u001b[0;34m\u001b[0m\u001b[0m\n\u001b[0m",
      "\u001b[0;32m//anaconda/lib/python3.5/site-packages/xarray/core/common.py\u001b[0m in \u001b[0;36mresample\u001b[0;34m(self, freq, dim, how, skipna, closed, label, base, keep_attrs, **indexer)\u001b[0m\n\u001b[1;32m    580\u001b[0m         \u001b[0;32mif\u001b[0m \u001b[0mlen\u001b[0m\u001b[0;34m(\u001b[0m\u001b[0mindexer\u001b[0m\u001b[0;34m)\u001b[0m \u001b[0;34m!=\u001b[0m \u001b[0;36m1\u001b[0m\u001b[0;34m:\u001b[0m\u001b[0;34m\u001b[0m\u001b[0m\n\u001b[1;32m    581\u001b[0m             raise ValueError(\n\u001b[0;32m--> 582\u001b[0;31m                 \u001b[0;34m\"Resampling only supported along single dimensions.\"\u001b[0m\u001b[0;34m\u001b[0m\u001b[0m\n\u001b[0m\u001b[1;32m    583\u001b[0m             )\n\u001b[1;32m    584\u001b[0m         \u001b[0mdim\u001b[0m\u001b[0;34m,\u001b[0m \u001b[0mfreq\u001b[0m \u001b[0;34m=\u001b[0m \u001b[0mindexer\u001b[0m\u001b[0;34m.\u001b[0m\u001b[0mpopitem\u001b[0m\u001b[0;34m(\u001b[0m\u001b[0;34m)\u001b[0m\u001b[0;34m\u001b[0m\u001b[0m\n",
      "\u001b[0;31mValueError\u001b[0m: Resampling only supported along single dimensions."
     ]
    }
   ],
   "source": [
    "ds['dissolved_oxygen'].resample('1H',how=np.mean)"
   ]
  },
  {
   "cell_type": "code",
   "execution_count": null,
   "metadata": {},
   "outputs": [],
   "source": []
  }
 ],
 "metadata": {
  "anaconda-cloud": {},
  "kernelspec": {
   "display_name": "Python [default]",
   "language": "python",
   "name": "python3"
  },
  "language_info": {
   "codemirror_mode": {
    "name": "ipython",
    "version": 3
   },
   "file_extension": ".py",
   "mimetype": "text/x-python",
   "name": "python",
   "nbconvert_exporter": "python",
   "pygments_lexer": "ipython3",
   "version": "3.5.5"
  }
 },
 "nbformat": 4,
 "nbformat_minor": 2
}
