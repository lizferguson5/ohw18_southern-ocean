{
 "cells": [
  {
   "cell_type": "code",
   "execution_count": 22,
   "metadata": {},
   "outputs": [],
   "source": [
    "#Import relevant python libraries\n",
    "import requests, warnings, json, time, datetime, warnings, re, os\n",
    "import netCDF4 as nc\n",
    "import matplotlib.pyplot as plt\n",
    "import matplotlib.dates as dates\n",
    "\n",
    "import xarray as xr\n",
    "import pandas as pd\n",
    "import numpy as np\n",
    "\n",
    "warnings.filterwarnings('ignore')"
   ]
  },
  {
   "cell_type": "code",
   "execution_count": 11,
   "metadata": {},
   "outputs": [
    {
     "data": {
      "text/plain": [
       "['9096SOOCN_HRQC.nc',\n",
       " '9091SOOCN_HRQC.nc',\n",
       " '12380SOOCN_HRQC.nc',\n",
       " '9668SOOCN_HRQC.nc',\n",
       " '12733SOOCN_HRQC.nc',\n",
       " '12734SOOCN_HRQC.nc',\n",
       " '9313SOOCN_HRQC.nc',\n",
       " '9018SOOCN_HRQC.nc',\n",
       " '7613SOOCN_HRQC.nc',\n",
       " '12745SOOCN_HRQC.nc',\n",
       " '7614SOOCN_HRQC.nc',\n",
       " '12742SOOCN_HRQC.nc',\n",
       " '6091SOOCN_HRQC.nc',\n",
       " '9659SOOCN_HRQC.nc',\n",
       " '12702SOOCN_HRQC.nc',\n",
       " '12757SOOCN_HRQC.nc',\n",
       " '9265SOOCN_HRQC.nc',\n",
       " '12381SOOCN_HRQC.nc',\n",
       " '12379SOOCN_HRQC.nc',\n",
       " '12386SOOCN_HRQC.nc',\n",
       " '12549SOOCN_HRQC.nc',\n",
       " '7652SOOCN_HRQC.nc',\n",
       " '9254SOOCN_HRQC.nc',\n",
       " '12744SOOCN_HRQC.nc',\n",
       " '8514SOOCN_HRQC.nc',\n",
       " '12551SOOCN_HRQC.nc',\n",
       " '9762SOOCN_HRQC.nc',\n",
       " '9655SOOCN_HRQC.nc',\n",
       " '9600SOOCN_HRQC.nc',\n",
       " '8501SOOCN_HRQC.nc',\n",
       " '12543SOOCN_HRQC.nc',\n",
       " '9652SOOCN_HRQC.nc',\n",
       " '12709SOOCN_HRQC.nc',\n",
       " '9631SOOCN_HRQC.nc',\n",
       " '12575SOOCN_HRQC.nc',\n",
       " '12361SOOCN_HRQC.nc',\n",
       " '12366SOOCN_HRQC.nc',\n",
       " '12542SOOCN_HRQC.nc',\n",
       " '12545SOOCN_HRQC.nc',\n",
       " '9125SOOCN_HRQC.nc',\n",
       " '9646SOOCN_HRQC.nc',\n",
       " '12748SOOCN_HRQC.nc',\n",
       " '9752SOOCN_HRQC.nc',\n",
       " '9101SOOCN_HRQC.nc',\n",
       " '12779SOOCN_HRQC.nc',\n",
       " '12781SOOCN_HRQC.nc',\n",
       " '9637SOOCN_HRQC.nc',\n",
       " '9662SOOCN_HRQC.nc',\n",
       " '12573SOOCN_HRQC.nc',\n",
       " '9031SOOCN_HRQC.nc',\n",
       " '9630SOOCN_HRQC.nc',\n",
       " '12372SOOCN_HRQC.nc',\n",
       " '12540SOOCN_HRQC.nc',\n",
       " '9766SOOCN_HRQC.nc',\n",
       " '12552SOOCN_HRQC.nc',\n",
       " '12729SOOCN_HRQC.nc',\n",
       " '12784SOOCN_HRQC.nc',\n",
       " '9757SOOCN_HRQC.nc',\n",
       " '9750SOOCN_HRQC.nc',\n",
       " '12769SOOCN_HRQC.nc',\n",
       " '12370SOOCN_HRQC.nc',\n",
       " '7557SOOCN_HRQC.nc',\n",
       " '9632SOOCN_HRQC.nc',\n",
       " '9099SOOCN_HRQC.nc',\n",
       " '12388SOOCN_HRQC.nc',\n",
       " '9660SOOCN_HRQC.nc',\n",
       " '9642SOOCN_HRQC.nc',\n",
       " '9645SOOCN_HRQC.nc',\n",
       " '9650SOOCN_HRQC.nc',\n",
       " '12541SOOCN_HRQC.nc',\n",
       " '9602SOOCN_HRQC.nc',\n",
       " '9657SOOCN_HRQC.nc',\n",
       " '7567SOOCN_HRQC.nc',\n",
       " '9634SOOCN_HRQC.nc',\n",
       " '9666SOOCN_HRQC.nc',\n",
       " '9744SOOCN_HRQC.nc',\n",
       " '12371SOOCN_HRQC.nc',\n",
       " '12782SOOCN_HRQC.nc',\n",
       " '8204SOOCN_HRQC.nc',\n",
       " '12537SOOCN_HRQC.nc',\n",
       " '12363SOOCN_HRQC.nc',\n",
       " '9260SOOCN_HRQC.nc',\n",
       " '12369SOOCN_HRQC.nc',\n",
       " '12396SOOCN_HRQC.nc',\n",
       " '12730SOOCN_HRQC.nc',\n",
       " '9275SOOCN_HRQC.nc',\n",
       " '9095SOOCN_HRQC.nc',\n",
       " '9092SOOCN_HRQC.nc',\n",
       " '9749SOOCN_HRQC.nc',\n",
       " '12701SOOCN_HRQC.nc',\n",
       " '12741SOOCN_HRQC.nc',\n",
       " '12559SOOCN_HRQC.nc',\n",
       " '12736SOOCN_HRQC.nc',\n",
       " '12382SOOCN_HRQC.nc',\n",
       " '9094SOOCN_HRQC.nc',\n",
       " '12723SOOCN_HRQC.nc',\n",
       " '12390SOOCN_HRQC.nc',\n",
       " '12558SOOCN_HRQC.nc',\n",
       " '12755SOOCN_HRQC.nc']"
      ]
     },
     "metadata": {},
     "output_type": "display_data"
    }
   ],
   "source": [
    "#Point to directory containing downloaded netcdf files from SOCCOM project\n",
    "#Download data from http://soccompu.princeton.edu/www/dl.php?file=/FloatViz_Data/SOCCOM_HRQC_LIAR_netcdf_20180820.zip\n",
    "pathname = '/Users/jesse/Downloads/SOCCOM_HRQC_LIAR_netcdf_20180820'\n",
    "list_files = os.listdir(pathname)\n",
    "display(list_files)"
   ]
  },
  {
   "cell_type": "code",
   "execution_count": 12,
   "metadata": {},
   "outputs": [],
   "source": [
    "#Remove any files that aren't netcdf - defensive coding\n",
    "for i in list_files:\n",
    "    if i.endswith('.nc') == False:\n",
    "        list_files.remove(i)\n",
    "filenames = [os.path.join(pathname, i) for i in list_files]\n",
    "display(filenames)"
   ]
  },
  {
   "cell_type": "code",
   "execution_count": 26,
   "metadata": {},
   "outputs": [],
   "source": [
    "#To open one file at a time\n",
    "ds = xr.open_dataset('12755SOOCN_HRQC.nc')"
   ]
  },
  {
   "cell_type": "code",
   "execution_count": 21,
   "metadata": {},
   "outputs": [
    {
     "data": {
      "text/plain": [
       "'\\n//0\\n//File updated on 08/09/2018 15:48\\n//!! ADJUSTED DATA FILE !!\\n//WMO ID: 5905367\\n//Univ. of Washington ID: 12755\\n//MBARI ID: 12755SOOCN\\n//No missing float profiles\\n//Missing Float position interpolated for station(s): 14 15 \\n//Latitude quality flag = 4 for interpolated float positions\\n//No position for station(s): 17 18 19 20 \\n//Missing Float data detected for adjusted station(s): 17 18 19 20 \\n//\\n//FLOAT VARIABLES:\\n//Variable Sensor Serial number Comment\\n//Pressure[dbar] Sbe41cp 9025 \\n//Temperature[�C] Sbe41cp 9025 \\n//Salinity[pss] Sbe41cp 9025 \\n//Sigma_theta[kg/m^3]   Potential density at the sea surface\\n//Depth[m]   Depth calculated from pressure and latitude\\n//Oxygen[�mol/kg] Aanderaa 4330 2673 \\n//OxygenSat[%]   Calculation assumes atmospheric pressure= 1013.25 mbar\\n//Nitrate[�mol/kg] ISUS Lamp#C6.A01.0068  Spec#107978 Equitech Ti probe #1703.05  MBARI ARGO float#778  DF#169  CTD#9025 \\n//Chl_a[mg/m^3] FLBBAP2 4420 \\n//Chl_a_corr[mg/m^3] FLBBAP2 4420 See: Boss, E.B. and N. Ha�ntjens, 2016. http://soccom.princeton.edu/sites/default/files/files/SOCCOM_2016-1_Bio-optics-primer.pdf\\n//b_bp700[1/m] FLBBAP2 4420 \\n//b_bp_corr[1/m]   \\n//POC[mmol/m^3] FLBBAP2 4420 See: Boss, E.B. and N. Ha�ntjens, 2016. http://soccom.princeton.edu/sites/default/files/files/SOCCOM_2016-1_Bio-optics-primer.pdf\\n//pHinsitu[Total] Durafet 169 \\n//pH25C[Total] Durafet 169 estimated with CO2SYS(TALK_LIAR,pHinsitu) for Matlab  see note below\\n//TALK_LIAR[�mol/kg]   TALK_LIAR = Alkalinity estimated with the LIAR V2.2 algorithim using salinity, potential temperature and AOU (Carter et al., 2016,doi:10.1002/lom3.10087)\\n//DIC_LIAR[�mol/kg]   estimated with CO2SYS(TALK_LIAR,pHinsitu) for Matlab (see note below)\\n//pCO2_LIAR[�atm]   estimated with CO2SYS(TALK_LIAR,biased pHinsitu) for Matlab (see note below)\\n//\\n//NOTE ON CO2SYS CARBONATE SYSTEM CALCULATIONS:\\n//All carbonate system variables calculated with CO2SYS for Matlab\\n//(van Heuven et al., 2011, doi: 10.3334/CDIAC/otg.CO2SYS_MATLAB_v1.1)\\n//used the following conditions: pH was reported on the total scale.\\n//K1 and K2 dissociation constants were from Lueker et al., 2000, doi:\\n//10.1016/S0304-4203(00)00022-0. The KSO4 dissociation constant was\\n//from Dickson, 1990, doi: 10.1016/0021-9614(90)90074-Z. The KF dissociation\\n//constant was from Perez and Fraga 1987, doi: 10.1016/0304-4203(87)90036-3.\\n//The borate to salinity ratio was from Lee et al., 2010,\\n//doi:10.1016/j.gca.2009.12.027. Silicate and Phosphate were not\\n//measured by the float, but estimates based on Redfieldian ratios improved\\n//the carbonate system estimates. If a nitrate value was considered to\\n//be of good quality silicate = nitrate*2.5 and phosphate = nitrate/16,\\n//otherwise the best estimate for both was considered to be 0. When pCO2\\n//was estimated from TALK_LIAR and pHinsitu, a bias was first added to pHinsitu\\n//following Williams et al., 2017, doi: XXXXXXXXXX, section 3.4, equation 2.\\n//\\n//NOTE ON Chl_a & Chl_a_corr [mg/m^3] CONCENTRATION:\\n//There is community-established calibration bias of 2 for the WET Labs 413 ECO-series fluorometers\\n//(Roesler et al, 2017, doi: 10.1002/lom3.10185).\\n//Chl_a has been recalculated using in situ measured dark counts. Chl_a is then divided by the Roesler factor of 2.\\n//Lastly, profiles with sun elevaltion > 0 are corrected for NPQ (Xing et al, 2012, doi: 10.4319/lom.2012.10.483)\\n//with uncorrected spikes (raw-filtered data) added back to the corrected profile.\\n//Chl_a_corr uses a modified Xing approach to correct for NPQ: the reference depth is the\\n//shallower of the mixed layer depth or the 1 percent light depth (Kd based on \\n//Kim et al., 2015, doi:10.5194/bg-12-5119-2015).No spike profile added.\\n//South of 30S a slope correction of 6 was used(E. Boss unpublished data).\\n//This correction scheme was decided upon at the 18th Argo Data Management Team \\n//meeting in Hamburg, Germany (Nov, 2017), and is subject to change as research on optimal \\n//correction methods for float data from FLBB sensors continues.\\n////\\n//QUALITY CONTROLLED DATA CORRECTIONS:\\n//Measurement Station Gain Offset Drift\\n//Oxygen 1 1.3300 0.0000 0.0000\\n//Nitrate 1 1.0000 3.5413 0.0000\\n//Nitrate 2 1.0000 -1.5909 0.7712\\n//Nitrate 16 1.0000 0.0755 0.0000\\n//pH 1 1.0000 -0.0121 0.0000\\n//pH 2 1.0000 -0.0061 0.0000\\n//pH 16 1.0000 -0.0019 0.0000\\n//\\n//Missing data value = -1e10\\n//Data quality flags: 0=Good, 4=Questionable, 8=Bad, 1=Missing or not inspected \\n//Note: all timestamps are in GMT. '"
      ]
     },
     "execution_count": 21,
     "metadata": {},
     "output_type": "execute_result"
    }
   ],
   "source": [
    "# Display contents of the header file for purpose of determining WMO ID:\n",
    "ds.Comments"
   ]
  },
  {
   "cell_type": "code",
   "execution_count": 51,
   "metadata": {},
   "outputs": [
    {
     "data": {
      "text/plain": [
       "'5905367'"
      ]
     },
     "metadata": {},
     "output_type": "display_data"
    }
   ],
   "source": [
    "#Find the WMO ID in the comment and assign to WMO_ID\n",
    "pattern = r'WMO ID: (\\d+)'\n",
    "match=re.search(pattern,ds.Comments)\n",
    "WMO_ID= match.groups()[0]\n",
    "display(temp_fltnum)"
   ]
  },
  {
   "cell_type": "code",
   "execution_count": 30,
   "metadata": {},
   "outputs": [],
   "source": [
    "#Function to open all files\n",
    "def open_data(file):\n",
    "    ds = xr.open_dataset(file)\n",
    "    return ds\n"
   ]
  },
  {
   "cell_type": "code",
   "execution_count": 31,
   "metadata": {},
   "outputs": [],
   "source": [
    "#Open each file in the list using the function open_data\n",
    "all_ds = [open_data(file) for file in filenames]"
   ]
  },
  {
   "cell_type": "code",
   "execution_count": 54,
   "metadata": {},
   "outputs": [
    {
     "name": "stdout",
     "output_type": "stream",
     "text": [
      "<xarray.DataArray 'Salinity' (N_LEVELS: 556)>\n",
      "array([ 3.46907e+01,  3.46922e+01,  3.46959e+01, ...,  3.38640e+01,\n",
      "        3.38640e+01, -1.00000e+10])\n",
      "Dimensions without coordinates: N_LEVELS\n",
      "Attributes:\n",
      "    units:    pss\n",
      "(131,)\n",
      "(131,)\n"
     ]
    }
   ],
   "source": [
    "#Show formating of all-ds and get used to python indexing \n",
    "#display(all_ds)\n",
    "print(all_ds[0]['Salinity'][0])\n",
    "print(np.shape(all_ds[0]['Salinity'][:,0]))\n",
    "print(np.shape(all_ds[0]['JULD']))\n",
    "\n"
   ]
  },
  {
   "cell_type": "code",
   "execution_count": 49,
   "metadata": {},
   "outputs": [
    {
     "data": {
      "image/png": "[encoded data removed]",
      "text/plain": [
       "<Figure size 1152x432 with 1 Axes>"
      ]
     },
     "metadata": {},
     "output_type": "display_data"
    }
   ],
   "source": [
    "#Plot Salinity data versus time for all SOCOMM floats at shallowest pressure\n",
    "#NEED TO REMOVE DATA WITH BAD QUALITY FLAGS!!!!\n",
    "\n",
    "fig, ax = plt.subplots(1)\n",
    "fig.set_size_inches(16, 6)\n",
    "\n",
    "for i,value in enumerate(all_ds):\n",
    "    ax.plot(all_ds[i]['JULD'], all_ds[i]['Salinity'][:,0], marker='.', linewidth=0)\n",
    "ax.grid()\n",
    "\n",
    "plt.title('All SOCCOM Floats')\n",
    "plt.ylabel('Salinity')\n",
    "plt.xlabel('Date')\n",
    "plt.show()"
   ]
  },
  {
   "cell_type": "code",
   "execution_count": 55,
   "metadata": {},
   "outputs": [
    {
     "data": {
      "image/png": "[encoded data removed]",
      "text/plain": [
       "<Figure size 576x576 with 1 Axes>"
      ]
     },
     "metadata": {},
     "output_type": "display_data"
    }
   ],
   "source": [
    "#Trying to plot T/S here work in progress\n",
    "#NEED TO REMOVE DATA WITH BAD QUALITY FLAGS!!!!\n",
    "\n",
    "smin=50\n",
    "tmin=100\n",
    "smax=0\n",
    "tmax=-10\n",
    "fig = plt.figure(figsize=(8,8))\n",
    "\n",
    "for i,value in enumerate(all_ds):\n",
    "    plt.scatter(all_ds[i]['Salinity'][1,:],all_ds[i]['Temperature'][1,:])\n",
    "   "
   ]
  },
  {
   "cell_type": "code",
   "execution_count": 57,
   "metadata": {},
   "outputs": [
    {
     "data": {
      "text/plain": [
       "<xarray.DataArray 'Salinity' (N_LEVELS: 555)>\n",
       "array([ 3.47033e+01,  3.47051e+01,  3.47065e+01, ...,  3.38220e+01,\n",
       "       -1.00000e+10, -1.00000e+10])\n",
       "Dimensions without coordinates: N_LEVELS\n",
       "Attributes:\n",
       "    units:    pss"
      ]
     },
     "metadata": {},
     "output_type": "display_data"
    }
   ],
   "source": [
    "display(all_ds[1]['Salinity'][1,:])"
   ]
  },
  {
   "cell_type": "code",
   "execution_count": null,
   "metadata": {},
   "outputs": [],
   "source": []
  }
 ],
 "metadata": {
  "kernelspec": {
   "display_name": "Python 3",
   "language": "python",
   "name": "python3"
  },
  "language_info": {
   "codemirror_mode": {
    "name": "ipython",
    "version": 3
   },
   "file_extension": ".py",
   "mimetype": "text/x-python",
   "name": "python",
   "nbconvert_exporter": "python",
   "pygments_lexer": "ipython3",
   "version": "3.6.5"
  }
 },
 "nbformat": 4,
 "nbformat_minor": 2
}
