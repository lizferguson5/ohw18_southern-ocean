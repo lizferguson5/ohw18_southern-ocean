{
 "cells": [
  {
   "cell_type": "markdown",
   "metadata": {},
   "source": [
    "### Load Shipboard CTD data from csv files"
   ]
  },
  {
   "cell_type": "code",
   "execution_count": 90,
   "metadata": {},
   "outputs": [],
   "source": [
    "import xarray as xr\n",
    "import pandas as pd\n",
    "import glob\n",
    "import numpy as np\n",
    "import matplotlib.pyplot as plt"
   ]
  },
  {
   "cell_type": "markdown",
   "metadata": {},
   "source": [
    "Glob will be used to get the filename of all of the files with the extension .csv in the temp data folder"
   ]
  },
  {
   "cell_type": "code",
   "execution_count": 82,
   "metadata": {},
   "outputs": [
    {
     "name": "stdout",
     "output_type": "stream",
     "text": [
      "['./test_data/09AR20041223_hy1.csv', './test_data/33RR20070204_hy1.csv']\n"
     ]
    }
   ],
   "source": [
    "data_files = glob.glob('./test_data/*.csv')\n",
    "print(data_files)"
   ]
  },
  {
   "cell_type": "markdown",
   "metadata": {},
   "source": [
    "I hardcoded the headers of the csv into list called headers"
   ]
  },
  {
   "cell_type": "code",
   "execution_count": 83,
   "metadata": {},
   "outputs": [],
   "source": [
    "headers = [\"EXPOCODE\",\"SECT_ID\",\"STNNBR\",\"CASTNO\",\"SAMPNO\",\"BTLNBR\",\"BTLNBR_FLAG_W\",\"DATE\",\"TIME\",\"LATITUDE\",\"LONGITUDE\",\"DEPTH\",\"CTDPRS\",\"CTDTMP\",\"CTDSAL\",\"CTDSAL_FLAG_W\",\"SALNTY\",\"SALNTY_FLAG_W\",\"CTDOXY\",\"CTDOXY_FLAG_W\",\"OXYGEN\",\"OXYGEN_FLAG_W\",\"SILCAT\",\"SILCAT_FLAG_W\",\"NITRAT\",\"NITRAT_FLAG_W\",\"PHSPHT\",\"PHSPHT_FLAG_W\",\"CFC-11\",\"CFC-11_FLAG_W\",\"CFC-12\",\"CFC-12_FLAG_W\",\"CFC113\",\"CFC113_FLAG_W\",\"TCARBN\",\"TCARBN_FLAG_W\",\"ALKALI\",\"ALKALI_FLAG_W\",\"THETA\"]"
   ]
  },
  {
   "cell_type": "markdown",
   "metadata": {},
   "source": [
    "This will loop through each of the files, read them into a pandas dataframe, and append that dataframe into another dataframe"
   ]
  },
  {
   "cell_type": "code",
   "execution_count": 167,
   "metadata": {},
   "outputs": [],
   "source": [
    "def header_line(f):\n",
    "    \"\"\"\n",
    "    Return the header as a list of strings and the row number that header was found\n",
    "    \"\"\"\n",
    "    with open(f) as fp:\n",
    "        for ind, line in enumerate(fp):\n",
    "            if line.startswith('EXPOCODE'):\n",
    "                header = line.strip()\n",
    "                return (header.split(','), ind)"
   ]
  },
  {
   "cell_type": "code",
   "execution_count": 157,
   "metadata": {},
   "outputs": [],
   "source": [
    "header, start_line = header_line(f)"
   ]
  },
  {
   "cell_type": "code",
   "execution_count": 186,
   "metadata": {},
   "outputs": [
    {
     "name": "stderr",
     "output_type": "stream",
     "text": [
      "//anaconda/lib/python3.5/site-packages/ipykernel/__main__.py:4: ParserWarning: Falling back to the 'python' engine because the 'c' engine does not support skipfooter; you can avoid this warning by specifying engine='python'.\n",
      "//anaconda/lib/python3.5/site-packages/ipykernel/__main__.py:6: ParserWarning: Falling back to the 'python' engine because the 'c' engine does not support skipfooter; you can avoid this warning by specifying engine='python'.\n"
     ]
    }
   ],
   "source": [
    "for i, f in enumerate(data_files):\n",
    "    headers, start_row = header_line(f)\n",
    "    if i == 0:\n",
    "        df = pd.read_csv(f, skiprows=start_row+2, names=headers, skipfooter=1)\n",
    "    else:\n",
    "        df_temp = pd.read_csv(f, skiprows=start_row+2, names=headers,skipfooter=1)\n",
    "        df = df.append(df_temp, ignore_index=True)# This combines the temporary dataframe with growing dataframe"
   ]
  }
 ],
 "metadata": {
  "anaconda-cloud": {},
  "kernelspec": {
   "display_name": "Python [default]",
   "language": "python",
   "name": "python3"
  },
  "language_info": {
   "codemirror_mode": {
    "name": "ipython",
    "version": 3
   },
   "file_extension": ".py",
   "mimetype": "text/x-python",
   "name": "python",
   "nbconvert_exporter": "python",
   "pygments_lexer": "ipython3",
   "version": "3.5.5"
  }
 },
 "nbformat": 4,
 "nbformat_minor": 2
}
